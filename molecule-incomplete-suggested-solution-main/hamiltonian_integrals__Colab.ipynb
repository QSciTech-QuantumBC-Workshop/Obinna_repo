{
 "cells": [
  {
   "cell_type": "code",
   "execution_count": null,
   "metadata": {
    "id": "YWXmpVkbRu6g"
   },
   "outputs": [],
   "source": [
    "!pip install qiskit_ibm_runtime\n",
    "!pip install pylatexenc==2.10\n",
    "!pip install qiskit==0.39.5\n",
    "!pip install qiskit-nature==0.5.2\n",
    "!pip install qiskit_ibm_runtime\n"
   ]
  },
  {
   "cell_type": "code",
   "execution_count": null,
   "metadata": {
    "id": "gQ3ix_JgRIN1"
   },
   "outputs": [],
   "source": [
    "%matplotlib inline\n",
    "# Importing standard Qiskit libraries\n",
    "from qiskit import QuantumCircuit, execute, Aer, IBMQ\n",
    "from qiskit.compiler import transpile, assemble\n",
    "from qiskit.tools.jupyter import *\n",
    "from qiskit.visualization import *\n",
    "# from ibm_quantum_widgets import *\n",
    "\n",
    "# Loading your IBM Q account(s)\n",
    "IBMQ.save_account('your IBM token')\n",
    "\n",
    "provider = IBMQ.load_account()"
   ]
  },
  {
   "cell_type": "code",
   "execution_count": null,
   "metadata": {
    "id": "-MLnmXCKRIN2"
   },
   "outputs": [],
   "source": [
    "# Import other needed libraries\n",
    "import numpy as np\n",
    "import matplotlib.pyplot as plt"
   ]
  },
  {
   "cell_type": "code",
   "execution_count": null,
   "metadata": {
    "id": "FzpMw78QSsSA"
   },
   "outputs": [],
   "source": [
    "!pip install pyscf[all]"
   ]
  },
  {
   "cell_type": "code",
   "execution_count": null,
   "metadata": {
    "id": "5q8W8ay_S-NG"
   },
   "outputs": [],
   "source": [
    "from qiskit_nature.second_q.drivers import PySCFDriver\n",
    "from qiskit_nature.second_q.formats.molecule_info import MoleculeInfo\n",
    "from pyscf import gto"
   ]
  },
  {
   "cell_type": "code",
   "execution_count": null,
   "metadata": {
    "id": "3oriNGEYRIN4"
   },
   "outputs": [],
   "source": [
    "# # Create molecule\n",
    "# molecule = MoleculeInfo(['H', 'H'], [(0., 0., 0.), (0., 0., 0.735)],\n",
    "#                         charge=0, \n",
    "#                         multiplicity=1)\n",
    "\n",
    "# # Instantiate driver\n",
    "# driver = PySCFDriver.from_molecule(molecule = molecule, basis='sto3g')"
   ]
  },
  {
   "cell_type": "code",
   "execution_count": null,
   "metadata": {
    "colab": {
     "base_uri": "https://localhost:8080/"
    },
    "executionInfo": {
     "elapsed": 198,
     "status": "ok",
     "timestamp": 1675797425025,
     "user": {
      "displayName": "Obinna Uzoh",
      "userId": "13613862330219674325"
     },
     "user_tz": 480
    },
    "id": "XbG7wX5MU0w-",
    "outputId": "a4b3fdf4-e7a8-4b1a-d9db-fe630fef7e8b"
   },
   "outputs": [],
   "source": [
    "# problem = driver.run()\n",
    "# hamiltonian = problem.hamiltonian\n",
    "\n",
    "# coefficients = hamiltonian.electronic_integrals\n",
    "# coefficients.alpha"
   ]
  },
  {
   "cell_type": "code",
   "execution_count": null,
   "metadata": {},
   "outputs": [],
   "source": [
    "distance_list = np.arange(0.2, 2.5, 0.2)\n",
    "\n",
    "for i, d in enumerate(distance_list):\n",
    "    molecule = MoleculeInfo(['H', 'H'], [(0., 0., -d/2), (0., 0., d/2)],\n",
    "                            charge=0, \n",
    "                            multiplicity=1)\n",
    "      # C\n",
    "    mol = gto.M(\n",
    "    atom = [['H', (0,0,-d/2)], ['H', (0,0,d/2)]], \n",
    "    basis = 'sto-3g'\n",
    "    )\n",
    "    energy_nuc=mol.energy_nuc()\n",
    "\n",
    "    # Instantiate driver\n",
    "    driver = PySCFDriver.from_molecule(molecule = molecule, basis='sto3g')\n",
    "    problem = driver.run()\n",
    "    hamiltonian = problem.hamiltonian\n",
    "\n",
    "    coefficients = hamiltonian.electronic_integrals\n",
    "    h1_no_spin = coefficients.alpha['+-']\n",
    "    h2_no_spin = coefficients.alpha['++--']\n",
    "\n",
    "    dt = np.round(d,decimals = 3)\n",
    "\n",
    "\n",
    "    with open('H2_hamiltonian_integrals/Integrals_H2_no_spin_d_'+str(dt)+'.npz','wb') as f:\n",
    "        np.savez(f,atom=mol.atom,basis=mol.basis,energy_nuc=mol.energy_nuc(), distance = dt, h1 = h1_no_spin,h2 = h2_no_spin)\n",
    "\n",
    "\n"
   ]
  }
 ],
 "metadata": {
  "colab": {
   "provenance": []
  },
  "kernelspec": {
   "display_name": "Python 3",
   "language": "python",
   "name": "python3"
  },
  "language_info": {
   "codemirror_mode": {
    "name": "ipython",
    "version": 3
   },
   "file_extension": ".py",
   "mimetype": "text/x-python",
   "name": "python",
   "nbconvert_exporter": "python",
   "pygments_lexer": "ipython3",
   "version": "3.8.5"
  }
 },
 "nbformat": 4,
 "nbformat_minor": 5
}
