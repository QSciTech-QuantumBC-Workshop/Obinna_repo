{
 "cells": [
  {
   "cell_type": "code",
   "execution_count": null,
   "metadata": {},
   "outputs": [],
   "source": [
    "0.735\n",
    "Ground state position estimate (vqe) :  [-0.05543162]\n",
    "Ground state energy estimate (electronic, vqe) :  -1.8391949111777421\n",
    "Ground state energy estimate (molecular, vqe) :  -1.1192259167287624\n",
    "{'0101': 1023, '1010': 1}"
   ]
  },
  {
   "cell_type": "code",
   "execution_count": null,
   "metadata": {},
   "outputs": [],
   "source": [
    "0.2\n",
    "Ground state position estimate (vqe) :  [-3.95467017e-07]\n",
    "Ground state energy estimate (electronic, vqe) :  -2.4827909341011907\n",
    "Ground state energy estimate (molecular, vqe) :  0.16309512049880937\n",
    "{'0101': 1023}"
   ]
  },
  {
   "cell_type": "code",
   "execution_count": null,
   "metadata": {},
   "outputs": [],
   "source": [
    "0.4\n",
    "Ground state position estimate (vqe) :  [-6.61164317e-11]\n",
    "Ground state energy estimate (electronic, vqe) :  -2.2253765063382747\n",
    "Ground state energy estimate (molecular, vqe) :  -0.9024334790382746\n",
    "{'0101': 1023}"
   ]
  },
  {
   "cell_type": "code",
   "execution_count": null,
   "metadata": {},
   "outputs": [],
   "source": [
    "0.6\n",
    "Ground state position estimate (vqe) :  [-0.06103998]\n",
    "Ground state energy estimate (electronic, vqe) :  -1.9792865726718776\n",
    "Ground state energy estimate (molecular, vqe) :  -1.0973245544718777\n",
    "{'0101': 1023}"
   ]
  },
  {
   "cell_type": "code",
   "execution_count": null,
   "metadata": {},
   "outputs": [],
   "source": [
    "0.735\n",
    "Ground state position estimate (vqe) :  [-0.00875732]\n",
    "Ground state energy estimate (electronic, vqe) :  -1.839044106044259\n",
    "Ground state energy estimate (molecular, vqe) :  -1.1190751115952793\n",
    "{'0101': 1024}"
   ]
  },
  {
   "cell_type": "code",
   "execution_count": null,
   "metadata": {},
   "outputs": [],
   "source": [
    "0.8\n",
    "Ground state position estimate (vqe) :  [0.]\n",
    "Ground state energy estimate (electronic, vqe) :  -1.7722317613299365\n",
    "Ground state energy estimate (molecular, vqe) :  -1.1107602476799365\n",
    "{'0101': 1024}    "
   ]
  },
  {
   "cell_type": "code",
   "execution_count": null,
   "metadata": {},
   "outputs": [],
   "source": [
    "1.0\n",
    "Ground state position estimate (vqe) :  [-1.85495469e-11]\n",
    "Ground state energy estimate (electronic, vqe) :  -1.5966311083672309\n",
    "Ground state energy estimate (molecular, vqe) :  -1.0674538974472307\n",
    "{'0101': 1024}\n",
    "{'0101': 1022, '1010': 2}"
   ]
  },
  {
   "cell_type": "code",
   "execution_count": null,
   "metadata": {},
   "outputs": [],
   "source": [
    "1.2\n",
    "Ground state position estimate (vqe) :  [0.01269337]\n",
    "Ground state energy estimate (electronic, vqe) :  -1.3258455990353277\n",
    "Ground state energy estimate (molecular, vqe) :  -0.9478618769496134\n",
    "{'0101': 1024}"
   ]
  },
  {
   "cell_type": "code",
   "execution_count": null,
   "metadata": {},
   "outputs": [],
   "source": [
    "1.4\n",
    "Ground state position estimate (vqe) :  [0.02722951]\n",
    "Ground state energy estimate (electronic, vqe) :  -1.3185015830700766\n",
    "Ground state energy estimate (molecular, vqe) :  -0.9405178609843623\n",
    "{'0101': 1023, '1010': 1}"
   ]
  }
 ],
 "metadata": {
  "kernelspec": {
   "display_name": "Python 3",
   "language": "python",
   "name": "python3"
  },
  "language_info": {
   "codemirror_mode": {
    "name": "ipython",
    "version": 3
   },
   "file_extension": ".py",
   "mimetype": "text/x-python",
   "name": "python",
   "nbconvert_exporter": "python",
   "pygments_lexer": "ipython3",
   "version": "3.8.5"
  }
 },
 "nbformat": 4,
 "nbformat_minor": 4
}
