{
 "cells": [
  {
   "cell_type": "code",
   "execution_count": 41,
   "metadata": {},
   "outputs": [
    {
     "name": "stdout",
     "output_type": "stream",
     "text": [
      "The autoreload extension is already loaded. To reload it, use:\n",
      "  %reload_ext autoreload\n"
     ]
    }
   ],
   "source": [
    "import numpy as np\n",
    "%load_ext autoreload\n",
    "%autoreload 0\n",
    "import matplotlib.pyplot as plt"
   ]
  },
  {
   "cell_type": "code",
   "execution_count": 42,
   "metadata": {},
   "outputs": [],
   "source": [
    "from qiskit.circuit import QuantumCircuit\n",
    "from qiskit.circuit import Parameter\n",
    "\n",
    "from estimator import Estimator\n",
    "from estimator import BasicEstimator"
   ]
  },
  {
   "cell_type": "code",
   "execution_count": 43,
   "metadata": {},
   "outputs": [],
   "source": [
    "from qiskit import Aer, execute\n",
    "qasm_simulator = Aer.get_backend('qasm_simulator')"
   ]
  },
  {
   "cell_type": "code",
   "execution_count": 44,
   "metadata": {},
   "outputs": [],
   "source": [
    "from pauli_string import PauliString\n",
    "from hamiltonian import MolecularFermionicHamiltonian\n",
    "from mapping import JordanWigner\n",
    "from scipy.optimize import minimize\n",
    "from solver import VQESolver"
   ]
  },
  {
   "cell_type": "markdown",
   "metadata": {},
   "source": [
    "## VQE on a quantum simulator"
   ]
  },
  {
   "cell_type": "code",
   "execution_count": null,
   "metadata": {},
   "outputs": [],
   "source": [
    "### See the notebook \"hamiltonian_integrals__Colab.pynb\" \n",
    "### to get the hamiltonian integrals"
   ]
  },
  {
   "cell_type": "markdown",
   "metadata": {},
   "source": [
    "### Initial state circuit setup"
   ]
  },
  {
   "cell_type": "code",
   "execution_count": 92,
   "metadata": {},
   "outputs": [
    {
     "data": {
      "image/png": "[encoded data removed]",
      "text/plain": [
       "<Figure size 658.679x325.08 with 1 Axes>"
      ]
     },
     "metadata": {},
     "output_type": "display_data"
    },
    {
     "name": "stdout",
     "output_type": "stream",
     "text": [
      "{'0101': 2048}\n"
     ]
    }
   ],
   "source": [
    "varform_4qubits_1param = QuantumCircuit(4)\n",
    "a = Parameter('a')\n",
    "varform_4qubits_1param.x(0)\n",
    "# varform_4qubits_1param.rx(a,1)\n",
    "\n",
    "varform_4qubits_1param.rx(a,1)\n",
    "varform_4qubits_1param.cx(1,0)\n",
    "varform_4qubits_1param.cx(0,2)\n",
    "varform_4qubits_1param.cx(1,3)\n",
    "# varform_4qubits_1param.assign_parameters({a:0})\n",
    "# display(varform_4qubits_1param.draw('mpl'))\n",
    "\n",
    "varform =varform_4qubits_1param.assign_parameters({a:0})\n",
    "varform.measure_all()\n",
    "display(varform.draw('mpl'))\n",
    "\n",
    "execute_opts = {'shots' : 2048}\n",
    "job = execute(varform, backend=qasm_simulator, **execute_opts)\n",
    "result = job.result()\n",
    "counts = result.get_counts(varform)\n",
    "print(counts)"
   ]
  },
  {
   "cell_type": "markdown",
   "metadata": {},
   "source": [
    "## Define relevant functions"
   ]
  },
  {
   "cell_type": "code",
   "execution_count": 87,
   "metadata": {},
   "outputs": [],
   "source": [
    "def read_integrals(distance):\n",
    "    with open('H2_hamiltonian_integrals/Integrals_H2_no_spin_d_'+str(distance)+'.npz','rb') as f:\n",
    "\n",
    "        out = np.load(f)\n",
    "        h1_load_no_spin = out['h1']\n",
    "        h2_load_no_spin = out['h2']\n",
    "        energy_nuc =  out['energy_nuc']\n",
    "        distance = out['distance']\n",
    "\n",
    "    molecular_hamiltonian = MolecularFermionicHamiltonian.from_integrals(h1_load_no_spin,h2_load_no_spin).include_spin()\n",
    "\n",
    "    mapping = JordanWigner()\n",
    "    qubit_hamiltonian = mapping.fermionic_hamiltonian_to_qubit_hamiltonian(molecular_hamiltonian).sort()\n",
    "    qubit_hamiltonian = qubit_hamiltonian.apply_threshold().combine().apply_threshold().sort()\n",
    "    return (qubit_hamiltonian, energy_nuc)\n",
    "\n",
    "\n",
    "\n",
    "def initial_state_circuit():\n",
    "    varform_4qubits_1param = QuantumCircuit(4)\n",
    "    a = Parameter('a')\n",
    "    varform_4qubits_1param.x(0)\n",
    "    varform_4qubits_1param.rx(a,1)\n",
    "    varform_4qubits_1param.cx(1,0)\n",
    "    varform_4qubits_1param.cx(0,2)\n",
    "    varform_4qubits_1param.cx(1,3)\n",
    "    \n",
    "    return varform_4qubits_1param\n",
    "\n",
    "def Estimator(read_integrals, initial_state_circuit, backend, execute_opts):\n",
    "    qubit_hamiltonian = read_integrals(distance)[0]\n",
    "    varform = initial_state_circuit()\n",
    "#     backend = qasm_simulator\n",
    "#     execute_opts = {'shots' : 2048}\n",
    "    estimator = BasicEstimator(varform, backend,execute_opts = execute_opts)\n",
    "    estimator.set_observable(qubit_hamiltonian)\n",
    "    params = [0,]\n",
    "    expected_value = estimator.eval(params)\n",
    "    \n",
    "    return estimator\n",
    "\n",
    "minimizer = lambda fct, start_param_values : minimize(\n",
    "    fct,\n",
    "    start_param_values,\n",
    "    method = 'SLSQP', \n",
    "    options = {'maxiter' : 5,'eps' : 1e-1, 'ftol' : 1e-4, 'disp' : True, 'iprint' : 0})"
   ]
  },
  {
   "cell_type": "markdown",
   "metadata": {},
   "source": [
    "## Qasm simulator"
   ]
  },
  {
   "cell_type": "code",
   "execution_count": 88,
   "metadata": {},
   "outputs": [
    {
     "name": "stdout",
     "output_type": "stream",
     "text": [
      "distance :0.2, energy :  0.16172269603530554\n",
      "distance :0.4, energy :  -0.9020709072860131\n",
      "distance :0.6, energy :  -1.1017644628868868\n",
      "distance :0.735, energy :  -1.1187302725987913\n",
      "distance :0.8, energy :  -1.1139245668741324\n",
      "distance :1.0, energy :  -1.06913545760885\n",
      "distance :1.2, energy :  -1.0057213300117192\n",
      "distance :1.4, energy :  -0.9446708370341008\n",
      "distance :1.6, energy :  -0.884618590534799\n",
      "distance :1.8, energy :  -0.833017951367076\n",
      "distance :2.0, energy :  -0.7878416929473695\n",
      "distance :2.2, energy :  -0.7519872332320697\n",
      "distance :2.4, energy :  -0.7159243691746527\n"
     ]
    }
   ],
   "source": [
    "backend = qasm_simulator\n",
    "execute_opts = {'shots' : 2048}\n",
    "\n",
    "params = [0,]\n",
    "\n",
    "d1 = np.arange(0.2,2.5,0.2)\n",
    "d2 =np.array([0.735])\n",
    "distance_array = np.concatenate((d1, d2))\n",
    "distance_array = np.sort(distance_array)\n",
    "                         \n",
    "opt_param_list = []\n",
    "Ground_state_energy = []\n",
    "\n",
    "for i, distance in enumerate(distance_array):\n",
    "    distance = np.round(distance,decimals = 3)\n",
    "    qubit_hamiltonian = read_integrals(distance)[0]\n",
    "    energy_nuc = read_integrals(distance)[1]\n",
    "    \n",
    "\n",
    "    estimator = Estimator(read_integrals, initial_state_circuit, backend, execute_opts)\n",
    "    vqe_solver = VQESolver(estimator,minimizer,params,name = 'vqe_solver')\n",
    "    opt_value = vqe_solver.lowest_eig_value(qubit_hamiltonian)\n",
    "#     print('Ground state position estimate (vqe) : ', vqe_solver.last_opt_params)\n",
    "#     print('Ground state energy estimate (electronic, vqe) : ', opt_value)\n",
    "    opt_param_list.append(vqe_solver.last_opt_params)\n",
    "    Ground_state_energy.append(opt_value + energy_nuc)\n",
    "    print('distance :'+str(distance)+', energy : ', opt_value + energy_nuc)"
   ]
  },
  {
   "cell_type": "code",
   "execution_count": 47,
   "metadata": {},
   "outputs": [
    {
     "data": {
      "image/png": "[encoded data removed]",
      "text/plain": [
       "<Figure size 432x288 with 1 Axes>"
      ]
     },
     "metadata": {
      "needs_background": "light"
     },
     "output_type": "display_data"
    }
   ],
   "source": [
    "plt.plot(distance_array, Ground_state_energy, 'o-')\n",
    "plt.xlabel('distance')\n",
    "plt.ylabel('energy')\n",
    "plt.show()"
   ]
  },
  {
   "cell_type": "code",
   "execution_count": 90,
   "metadata": {},
   "outputs": [
    {
     "name": "stdout",
     "output_type": "stream",
     "text": [
      "[array([-0.02635801]), array([-0.02880856]), array([-0.00493526]), array([-0.02764364]), array([-0.03112994]), array([-2.37369719e-05]), array([-0.0008112]), array([0.00959679]), array([-0.03913786]), array([-0.03091346]), array([-0.00350079]), array([-1.09326376e-05]), array([0.0317641])]\n"
     ]
    },
    {
     "data": {
      "image/png": "[encoded data removed]",
      "text/plain": [
       "<Figure size 779.079x325.08 with 1 Axes>"
      ]
     },
     "metadata": {},
     "output_type": "display_data"
    },
    {
     "data": {
      "image/png": "[encoded data removed]",
      "text/plain": [
       "<Figure size 504x360 with 1 Axes>"
      ]
     },
     "execution_count": 90,
     "metadata": {},
     "output_type": "execute_result"
    }
   ],
   "source": [
    "eigenstate_qc_list_qasm = []\n",
    "counts_list_qasm = []\n",
    "for i, distance in enumerate(distance_array):\n",
    "    varform = initial_state_circuit()\n",
    "    eigenstate_qc = varform.copy()\n",
    "    eigenstate_qc.measure_all()\n",
    "    opt_params = opt_param_list[i]\n",
    "\n",
    "    param_dict = dict(zip(eigenstate_qc.parameters,opt_params))\n",
    "    eigenstate_qc = eigenstate_qc.assign_parameters(param_dict)\n",
    "    \n",
    "    execute_opts = {'shots' : 2048}\n",
    "    job = execute(eigenstate_qc,backend=qasm_simulator,**execute_opts)\n",
    "    result = job.result()\n",
    "    counts = result.get_counts(eigenstate_qc)\n",
    "    \n",
    "    eigenstate_qc_list_qasm.append(eigenstate_qc)\n",
    "    counts_list_qasm.append(counts)\n",
    "    \n",
    "    \n",
    "print(opt_param_list)    \n",
    "    \n",
    "i = 3\n",
    "display(eigenstate_qc_list_qasm[i].draw('mpl'))\n",
    "counts_list_qasm[i]\n",
    "\n",
    "\n",
    "\n",
    "from qiskit.visualization import plot_histogram\n",
    "plot_histogram(counts_list_qasm[i])"
   ]
  },
  {
   "cell_type": "markdown",
   "metadata": {},
   "source": [
    "## Exact solution"
   ]
  },
  {
   "cell_type": "code",
   "execution_count": 49,
   "metadata": {},
   "outputs": [],
   "source": [
    "from solver import ExactSolver"
   ]
  },
  {
   "cell_type": "code",
   "execution_count": 50,
   "metadata": {},
   "outputs": [
    {
     "name": "stdout",
     "output_type": "stream",
     "text": [
      "distance: 0.2, energy :  0.15748213479836393\n",
      "distance: 0.4, energy :  -0.9141497046270834\n",
      "distance: 0.6, energy :  -1.1162860068695397\n",
      "distance: 0.735, energy :  -1.1373060357534004\n",
      "distance: 0.8, energy :  -1.1341476666770955\n",
      "distance: 1.0, energy :  -1.1011503302326182\n",
      "distance: 1.2, energy :  -1.0567407463052576\n",
      "distance: 1.4, energy :  -1.0154682492882452\n",
      "distance: 1.6, energy :  -0.9834727290331733\n",
      "distance: 1.8, energy :  -0.961816952792581\n",
      "distance: 2.0, energy :  -0.9486411121761855\n",
      "distance: 2.2, energy :  -0.9412240336932618\n",
      "distance: 2.4, energy :  -0.9372549530096289\n"
     ]
    }
   ],
   "source": [
    "exact_solver = ExactSolver()\n",
    "d1 = np.arange(0.2,2.5,0.2)\n",
    "d2 =np.array([0.735])\n",
    "distance_array = np.concatenate((d1, d2))\n",
    "distance_array = np.sort(distance_array)\n",
    "\n",
    "ground_state_vector_exact = []\n",
    "ground_state_energy_exact = []\n",
    "for i, distance in enumerate(distance_array):\n",
    "    distance = np.round(distance,decimals = 3)\n",
    "    qubit_hamiltonian = read_integrals(distance)[0]\n",
    "    energy_nuc = read_integrals(distance)[1]\n",
    "    ground_state_value = exact_solver.lowest_eig_value(qubit_hamiltonian)\n",
    "    ground_state_vector = exact_solver.last_opt_params\n",
    "    \n",
    "    ground_state_vector_exact.append(ground_state_vector)\n",
    "    ground_state_energy_exact.append(ground_state_value + energy_nuc)\n",
    "    \n",
    "#     print('Ground state vector (exact) : ', ground_state_vector)\n",
    "#     print('Ground state energy (electronic, exact) : ', ground_state_value)\n",
    "    print('distance: '+str(distance)+', energy : ', ground_state_value + energy_nuc)\n"
   ]
  },
  {
   "cell_type": "code",
   "execution_count": 51,
   "metadata": {},
   "outputs": [
    {
     "data": {
      "image/png": "[encoded data removed]",
      "text/plain": [
       "<Figure size 432x288 with 1 Axes>"
      ]
     },
     "metadata": {
      "needs_background": "light"
     },
     "output_type": "display_data"
    }
   ],
   "source": [
    "plt.plot(distance_array, ground_state_energy_exact, 'o-', label = 'Exact')\n",
    "plt.plot(distance_array, Ground_state_energy, 'o-', label = 'VQE-quantum simulator')\n",
    "\n",
    "plt.xlabel('distance')\n",
    "plt.ylabel('energy')\n",
    "plt.legend()\n",
    "plt.show()"
   ]
  },
  {
   "cell_type": "code",
   "execution_count": 52,
   "metadata": {},
   "outputs": [
    {
     "name": "stdout",
     "output_type": "stream",
     "text": [
      "[0.00000000e+00 0.00000000e+00 9.86076132e-32 3.44265545e-16\n",
      " 6.88531091e-17 9.93760401e-01 4.05592908e-16 7.77015473e-17\n",
      " 2.22044605e-16 1.90819582e-17 1.11535939e-01 5.20417037e-18\n",
      " 4.89524924e-17 2.77555756e-17 1.79958894e-30 2.28941320e-64]\n"
     ]
    },
    {
     "data": {
      "image/png": "[encoded data removed]",
      "text/plain": [
       "<Figure size 432x288 with 1 Axes>"
      ]
     },
     "metadata": {
      "needs_background": "light"
     },
     "output_type": "display_data"
    }
   ],
   "source": [
    "i = 3\n",
    "gs = ground_state_vector_exact[i]\n",
    "fig,ax = plt.subplots(1,1)\n",
    "i_max = np.argmax(np.abs(gs))\n",
    "state = gs * np.sign(gs[i_max])\n",
    "\n",
    "print(np.abs(state))\n",
    "ax.bar(range(len(state)),np.abs(state),color=(np.real(state) > 0).choose(['r','b']))\n",
    "plt.xticks(range(len(state)),[f\"{i:04b}\" for i in range(len(state))], size='small',rotation=60);"
   ]
  },
  {
   "cell_type": "code",
   "execution_count": 53,
   "metadata": {},
   "outputs": [
    {
     "name": "stdout",
     "output_type": "stream",
     "text": [
      "(-1+0j)\n"
     ]
    }
   ],
   "source": [
    "i_max = np.argmax(np.abs(gs))\n",
    "state = gs * np.sign(gs[i_max])\n",
    "print(np.sign(gs[i_max]))"
   ]
  },
  {
   "cell_type": "markdown",
   "metadata": {},
   "source": [
    "## On a actual quantum hardware"
   ]
  },
  {
   "cell_type": "code",
   "execution_count": 54,
   "metadata": {},
   "outputs": [
    {
     "name": "stderr",
     "output_type": "stream",
     "text": [
      "ibmqfactory.load_account:WARNING:2023-02-09 12:30:02,774: Credentials are already in use. The existing account in the session will be replaced.\n"
     ]
    },
    {
     "data": {
      "text/plain": [
       "<AccountProvider for IBMQ(hub='ibm-q', group='open', project='main')>"
      ]
     },
     "execution_count": 54,
     "metadata": {},
     "output_type": "execute_result"
    }
   ],
   "source": [
    "from qiskit import IBMQ\n",
    "\n",
    "IBMQ.load_account()"
   ]
  },
  {
   "cell_type": "code",
   "execution_count": 55,
   "metadata": {},
   "outputs": [
    {
     "data": {
      "text/plain": [
       "[<AccountProvider for IBMQ(hub='ibm-q', group='open', project='main')>,\n",
       " <AccountProvider for IBMQ(hub='ibm-q-qida', group='pinq2', project='winter-school')>]"
      ]
     },
     "execution_count": 55,
     "metadata": {},
     "output_type": "execute_result"
    }
   ],
   "source": [
    "IBMQ.providers()\n"
   ]
  },
  {
   "cell_type": "code",
   "execution_count": 56,
   "metadata": {},
   "outputs": [
    {
     "data": {
      "text/plain": [
       "[<IBMQSimulator('ibmq_qasm_simulator') from IBMQ(hub='ibm-q-qida', group='pinq2', project='winter-school')>,\n",
       " <IBMQSimulator('simulator_statevector') from IBMQ(hub='ibm-q-qida', group='pinq2', project='winter-school')>,\n",
       " <IBMQBackend('ibmq_jakarta') from IBMQ(hub='ibm-q-qida', group='pinq2', project='winter-school')>,\n",
       " <IBMQBackend('ibm_lagos') from IBMQ(hub='ibm-q-qida', group='pinq2', project='winter-school')>,\n",
       " <IBMQBackend('ibm_nairobi') from IBMQ(hub='ibm-q-qida', group='pinq2', project='winter-school')>,\n",
       " <IBMQBackend('ibm_perth') from IBMQ(hub='ibm-q-qida', group='pinq2', project='winter-school')>,\n",
       " <IBMQBackend('ibm_oslo') from IBMQ(hub='ibm-q-qida', group='pinq2', project='winter-school')>]"
      ]
     },
     "execution_count": 56,
     "metadata": {},
     "output_type": "execute_result"
    }
   ],
   "source": [
    "provider = IBMQ.get_provider(hub='ibm-q-qida', group='pinq2', project='winter-school')\n",
    "provider.backends()"
   ]
  },
  {
   "cell_type": "markdown",
   "metadata": {},
   "source": []
  },
  {
   "cell_type": "code",
   "execution_count": 57,
   "metadata": {},
   "outputs": [],
   "source": [
    "# #Check the ibm quantum website to see any available \n",
    "# #quantum hardware from the list above, and replace it in the get_backend function\n",
    "\n",
    "# backend = provider.get_backend('ibmq_jakarta')\n",
    "# execute_opts = {'shots' : 2048}\n",
    "# params = [0,]\n",
    "# d1 = np.arange(0.2,2.5,0.2)\n",
    "# d2 =np.array([0.735])\n",
    "# distance_array = np.concatenate((d1, d2))\n",
    "# distance_array = np.sort(distance_array)\n",
    "\n",
    "# # distance_array = ([0.735])\n",
    "# # distance_array = np.arange(0.735, 0.935, 0.2)\n",
    "# opt_param_ibm_hardware = []\n",
    "# GS_ibm_hardware = []\n",
    "\n",
    "# for i, distance in enumerate(distance_array):\n",
    "#     distance = np.round(distance,decimals = 3)\n",
    "#     qubit_hamiltonian = read_integrals(distance)[0]\n",
    "#     energy_nuc = read_integrals(distance)[1]\n",
    "    \n",
    "\n",
    "#     estimator = Estimator(read_integrals, initial_state_circuit, backend, execute_opts)\n",
    "#     vqe_solver = VQESolver(estimator,minimizer,params,name = 'vqe_solver')\n",
    "#     opt_value = vqe_solver.lowest_eig_value(qubit_hamiltonian)\n",
    "#     opt_param_ibm_hardware.append(vqe_solver.last_opt_params)\n",
    "#     GS_ibm_hardware.append(opt_value + energy_nuc)\n",
    "#     print('distance: '+str(distance)+', energy : ', opt_value + energy_nuc)\n",
    "    \n",
    "    \n",
    "# #  parameter =0 , Ground state energy estimate at distance 0.735 (molecular, vqe) :  -0.963777238071391   \n",
    "# # parameter = 10, distance: 0.735, energy :  -1.0195862849176636"
   ]
  },
  {
   "cell_type": "code",
   "execution_count": 73,
   "metadata": {},
   "outputs": [],
   "source": [
    "GS_ibm_hardware = [0.322713930307506,\n",
    "-0.773924177225504,\n",
    "-0.966228900399969,\n",
    "-0.963777238071391,                   \n",
    "-1.01007949503792,\n",
    "-0.975985816220656,\n",
    "-0.9376873612307,\n",
    "-0.884254834045232,\n",
    "-0.824099857385018,\n",
    "-0.779514288407978,\n",
    "-0.741831336740773,\n",
    "-0.709582800585129,\n",
    "-0.67880218136104]\n",
    "\n",
    "# eigenstate_qc_list_jak = []\n",
    "# counts_list_jak = []\n",
    "# for i, distance in enumerate(distance_array):\n",
    "#     varform = initial_state_circuit()\n",
    "#     eigenstate_qc = varform.copy()\n",
    "#     eigenstate_qc.measure_all()\n",
    "#     opt_params = opt_param_ibm_hardware[i]\n",
    "\n",
    "#     param_dict = dict(zip(eigenstate_qc.parameters,opt_params))\n",
    "#     eigenstate_qc = eigenstate_qc.assign_parameters(param_dict)\n",
    "    \n",
    "#     execute_opts = {'shots' : 1024}\n",
    "#     job = execute(eigenstate_qc,backend=qasm_simulator,**execute_opts)\n",
    "#     result = job.result()\n",
    "#     counts = result.get_counts(eigenstate_qc)\n",
    "    \n",
    "#     eigenstate_qc_list_jak.append(eigenstate_qc)\n",
    "#     counts_list_jak.append(counts)\n",
    "    \n",
    "    \n",
    "    \n",
    "    \n",
    "# i = 0\n",
    "# display(eigenstate_qc_list_jak[i].draw('mpl'))\n",
    "# counts_list_jak[i]\n",
    "\n",
    "\n",
    "\n",
    "# from qiskit.visualization import plot_histogram\n",
    "# plot_histogram(counts_list_jak[i])"
   ]
  },
  {
   "cell_type": "markdown",
   "metadata": {},
   "source": [
    "## Noisy simulation"
   ]
  },
  {
   "cell_type": "code",
   "execution_count": 59,
   "metadata": {},
   "outputs": [],
   "source": [
    "from qiskit.providers.fake_provider import FakeBelem\n",
    "from qiskit_aer.noise import NoiseModel\n",
    "\n",
    "from qiskit import Aer, execute\n",
    "qasm_simulator = Aer.get_backend('qasm_simulator')"
   ]
  },
  {
   "cell_type": "code",
   "execution_count": 60,
   "metadata": {},
   "outputs": [],
   "source": [
    "fake_noisy_backend = FakeBelem()\n",
    "noise_model = NoiseModel.from_backend(fake_noisy_backend)\n"
   ]
  },
  {
   "cell_type": "code",
   "execution_count": 61,
   "metadata": {},
   "outputs": [
    {
     "name": "stdout",
     "output_type": "stream",
     "text": [
      "distance 0.2, energy :  0.5571922109525476\n",
      "distance 0.4, energy :  -0.673685645201969\n",
      "distance 0.6, energy :  -0.8807606344403011\n",
      "distance 0.735, energy :  -0.9286909553994084\n",
      "distance 0.8, energy :  -0.9790306737450511\n",
      "distance 1.0, energy :  -0.9333657643886967\n",
      "distance 1.2, energy :  -0.9041008579387909\n",
      "distance 1.4, energy :  -0.8381123505865922\n",
      "distance 1.6, energy :  -0.7963910380931498\n",
      "distance 1.8, energy :  -0.7598400180379138\n",
      "distance 2.0, energy :  -0.7210143596453564\n",
      "distance 2.2, energy :  -0.69422676289468\n",
      "distance 2.4, energy :  -0.6345401702610932\n"
     ]
    }
   ],
   "source": [
    "backend = qasm_simulator\n",
    "execute_opts = {'shots' :2048, \"noise_model\": noise_model, \n",
    "                \"basis_gates\": fake_noisy_backend.configuration().basis_gates, \n",
    "                \"coupling_map\": fake_noisy_backend.configuration().coupling_map, \n",
    "                \"seed_simulator\": 42, \"optimization_level\" : 0, \"resiliance_level\" : 0}\n",
    "\n",
    "\n",
    "d1 = np.arange(0.2,2.5,0.2)\n",
    "d2 =np.array([0.735])\n",
    "distance_array = np.concatenate((d1, d2))\n",
    "distance_array = np.sort(distance_array)\n",
    "# distance_array = np.arange(0.735, 0.935, 0.2)\n",
    "opt_param_qasm_noisy = []\n",
    "GS_qasm_noisy = []\n",
    "\n",
    "for i, distance in enumerate(distance_array):\n",
    "    distance = np.round(distance,decimals = 3)\n",
    "    qubit_hamiltonian = read_integrals(distance)[0]\n",
    "    energy_nuc = read_integrals(distance)[1]\n",
    "    \n",
    "\n",
    "    estimator = Estimator(read_integrals, initial_state_circuit, backend, execute_opts)\n",
    "    vqe_solver = VQESolver(estimator,minimizer,[0,],name = 'vqe_solver')\n",
    "    opt_value = vqe_solver.lowest_eig_value(qubit_hamiltonian)\n",
    "\n",
    "    opt_param_qasm_noisy.append(vqe_solver.last_opt_params)\n",
    "    GS_qasm_noisy.append(opt_value + energy_nuc)\n",
    "    print('distance '+str(distance)+', energy : ', opt_value + energy_nuc)"
   ]
  },
  {
   "cell_type": "code",
   "execution_count": 62,
   "metadata": {},
   "outputs": [
    {
     "data": {
      "image/png": "[encoded data removed]",
      "text/plain": [
       "<Figure size 779.079x325.08 with 1 Axes>"
      ]
     },
     "metadata": {},
     "output_type": "display_data"
    },
    {
     "name": "stdout",
     "output_type": "stream",
     "text": [
      "{'0101': 1024}\n"
     ]
    },
    {
     "data": {
      "image/png": "[encoded data removed]",
      "text/plain": [
       "<Figure size 504x360 with 1 Axes>"
      ]
     },
     "execution_count": 62,
     "metadata": {},
     "output_type": "execute_result"
    }
   ],
   "source": [
    "eigenstate_qc_list_noise = []\n",
    "counts_list_noise = []\n",
    "for i, distance in enumerate(distance_array):\n",
    "    varform = initial_state_circuit()\n",
    "    eigenstate_qc = varform.copy()\n",
    "    eigenstate_qc.measure_all()\n",
    "    opt_params = opt_param_qasm_noisy[i]\n",
    "\n",
    "    param_dict = dict(zip(eigenstate_qc.parameters,opt_params))\n",
    "    eigenstate_qc = eigenstate_qc.assign_parameters(param_dict)\n",
    "    \n",
    "    execute_opts = {'shots' : 1024}\n",
    "    job = execute(eigenstate_qc,backend=qasm_simulator,**execute_opts)\n",
    "    result = job.result()\n",
    "    counts = result.get_counts(eigenstate_qc)\n",
    "    \n",
    "    eigenstate_qc_list_noise.append(eigenstate_qc)\n",
    "    counts_list_noise.append(counts)\n",
    "    \n",
    "    \n",
    "    \n",
    "    \n",
    "i = 3\n",
    "display(eigenstate_qc_list_noise[i].draw('mpl'))\n",
    "print(counts_list_noise[i])\n",
    "\n",
    "\n",
    "\n",
    "from qiskit.visualization import plot_histogram\n",
    "plot_histogram(counts_list_noise[i])"
   ]
  },
  {
   "cell_type": "markdown",
   "metadata": {},
   "source": [
    "## Noiseless simulation"
   ]
  },
  {
   "cell_type": "code",
   "execution_count": 63,
   "metadata": {},
   "outputs": [
    {
     "name": "stdout",
     "output_type": "stream",
     "text": [
      "distance 0.2, energy :  0.32874161607890917\n",
      "distance 0.4, energy :  -0.784763844182121\n",
      "distance 0.6, energy :  -0.9758728198564793\n",
      "distance 0.735, energy :  -1.0135026206874143\n",
      "distance 0.8, energy :  -1.008440494552193\n",
      "distance 1.0, energy :  -0.9947889941007936\n",
      "distance 1.2, energy :  -0.9375777809776519\n",
      "distance 1.4, energy :  -0.8894858314851739\n",
      "distance 1.6, energy :  -0.837051161117806\n",
      "distance 1.8, energy :  -0.7791657395133856\n",
      "distance 2.0, energy :  -0.741759494119685\n",
      "distance 2.2, energy :  -0.716230627714852\n",
      "distance 2.4, energy :  -0.6891930295130944\n"
     ]
    }
   ],
   "source": [
    "backend = qasm_simulator\n",
    "execute_opts = {'shots' :2048, \"noise_model\": noise_model, \n",
    "                \"basis_gates\": fake_noisy_backend.configuration().basis_gates, \n",
    "                \"coupling_map\": fake_noisy_backend.configuration().coupling_map, \n",
    "                \"seed_simulator\": 1, \"optimization_level\" : 3, \"resiliance_level\" : 0}\n",
    "\n",
    "d1 = np.arange(0.2,2.5,0.2)\n",
    "d2 =np.array([0.735])\n",
    "distance_array = np.concatenate((d1, d2))\n",
    "distance_array = np.sort(distance_array)\n",
    "# distance_array = np.arange(0.735, 0.935, 0.2)\n",
    "opt_param_qasm_noiseless = []\n",
    "GS_qasm_noiseless = []\n",
    "\n",
    "for i, distance in enumerate(distance_array):\n",
    "    distance = np.round(distance,decimals = 3)\n",
    "    qubit_hamiltonian = read_integrals(distance)[0]\n",
    "    energy_nuc = read_integrals(distance)[1]\n",
    "    \n",
    "\n",
    "    estimator = Estimator(read_integrals, initial_state_circuit, backend, execute_opts)\n",
    "    vqe_solver = VQESolver(estimator,minimizer,[0,],name = 'vqe_solver')\n",
    "    opt_value = vqe_solver.lowest_eig_value(qubit_hamiltonian)\n",
    "\n",
    "    opt_param_qasm_noiseless.append(vqe_solver.last_opt_params)\n",
    "    GS_qasm_noiseless.append(opt_value + energy_nuc)\n",
    "    print('distance '+str(distance)+', energy : ', opt_value + energy_nuc)"
   ]
  },
  {
   "cell_type": "code",
   "execution_count": 64,
   "metadata": {},
   "outputs": [
    {
     "data": {
      "image/png": "[encoded data removed]",
      "text/plain": [
       "<Figure size 779.079x325.08 with 1 Axes>"
      ]
     },
     "metadata": {},
     "output_type": "display_data"
    },
    {
     "name": "stdout",
     "output_type": "stream",
     "text": [
      "{'0101': 1024}\n"
     ]
    },
    {
     "data": {
      "image/png": "[encoded data removed]",
      "text/plain": [
       "<Figure size 504x360 with 1 Axes>"
      ]
     },
     "execution_count": 64,
     "metadata": {},
     "output_type": "execute_result"
    }
   ],
   "source": [
    "eigenstate_qc_list_noiseless = []\n",
    "counts_list_noiseless = []\n",
    "for i, distance in enumerate(distance_array):\n",
    "    varform = initial_state_circuit()\n",
    "    eigenstate_qc = varform.copy()\n",
    "    eigenstate_qc.measure_all()\n",
    "    opt_params = opt_param_qasm_noiseless[i]\n",
    "\n",
    "    param_dict = dict(zip(eigenstate_qc.parameters,opt_params))\n",
    "    eigenstate_qc = eigenstate_qc.assign_parameters(param_dict)\n",
    "    \n",
    "    execute_opts = {'shots' : 1024}\n",
    "    job = execute(eigenstate_qc,backend=qasm_simulator,**execute_opts)\n",
    "    result = job.result()\n",
    "    counts = result.get_counts(eigenstate_qc)\n",
    "    \n",
    "    eigenstate_qc_list_noiseless.append(eigenstate_qc)\n",
    "    counts_list_noiseless.append(counts)\n",
    "    \n",
    "    \n",
    "    \n",
    "    \n",
    "i = 3\n",
    "display(eigenstate_qc_list_noiseless[i].draw('mpl'))\n",
    "print(counts_list_noiseless[i])\n",
    "\n",
    "\n",
    "\n",
    "from qiskit.visualization import plot_histogram\n",
    "plot_histogram(counts_list_noiseless[i])"
   ]
  },
  {
   "cell_type": "code",
   "execution_count": 74,
   "metadata": {},
   "outputs": [
    {
     "data": {
      "image/png": "[encoded data removed]",
      "text/plain": [
       "<Figure size 432x288 with 1 Axes>"
      ]
     },
     "metadata": {
      "needs_background": "light"
     },
     "output_type": "display_data"
    }
   ],
   "source": [
    "plt.plot(distance_array, ground_state_energy_exact, 'o-', label = 'Exact')\n",
    "plt.plot(distance_array, Ground_state_energy, 'o-', label = 'qasm_simulator')\n",
    "plt.plot(distance_array, GS_ibm_hardware, 'o-', label = 'ibm_jakarta')\n",
    "# plt.plot(distance_array, GS_qasm_noisy, 'o-', label = 'noise')\n",
    "# plt.plot(distance_array, GS_qasm_noiseless, 'o-', label = 'noiseless')\n",
    "\n",
    "\n",
    "plt.xlabel('distance')\n",
    "plt.ylabel('energy')\n",
    "plt.legend()\n",
    "plt.show()"
   ]
  }
 ],
 "metadata": {
  "kernelspec": {
   "display_name": "Python 3",
   "language": "python",
   "name": "python3"
  },
  "language_info": {
   "codemirror_mode": {
    "name": "ipython",
    "version": 3
   },
   "file_extension": ".py",
   "mimetype": "text/x-python",
   "name": "python",
   "nbconvert_exporter": "python",
   "pygments_lexer": "ipython3",
   "version": "3.8.5"
  }
 },
 "nbformat": 4,
 "nbformat_minor": 4
}
