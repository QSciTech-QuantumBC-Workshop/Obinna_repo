{
 "cells": [
  {
   "cell_type": "code",
   "execution_count": 3,
   "metadata": {},
   "outputs": [
    {
     "ename": "AttributeError",
     "evalue": "'str' object has no attribute 'diagonalize'",
     "output_type": "error",
     "traceback": [
      "\u001b[1;31m---------------------------------------------------------------------------\u001b[0m",
      "\u001b[1;31mAttributeError\u001b[0m                            Traceback (most recent call last)",
      "\u001b[1;32m<ipython-input-3-44fa28e5cf9e>\u001b[0m in \u001b[0;36m<module>\u001b[1;34m\u001b[0m\n\u001b[0;32m      6\u001b[0m \u001b[1;33m\u001b[0m\u001b[0m\n\u001b[0;32m      7\u001b[0m \u001b[1;31m# Diagonalize the Pauli X operator\u001b[0m\u001b[1;33m\u001b[0m\u001b[1;33m\u001b[0m\u001b[1;33m\u001b[0m\u001b[0m\n\u001b[1;32m----> 8\u001b[1;33m \u001b[0meigenvalues_x\u001b[0m\u001b[1;33m,\u001b[0m \u001b[0meigenvectors_x\u001b[0m \u001b[1;33m=\u001b[0m \u001b[0mx\u001b[0m\u001b[1;33m.\u001b[0m\u001b[0mdiagonalize\u001b[0m\u001b[1;33m(\u001b[0m\u001b[1;33m)\u001b[0m\u001b[1;33m\u001b[0m\u001b[1;33m\u001b[0m\u001b[0m\n\u001b[0m\u001b[0;32m      9\u001b[0m \u001b[0mqc_x\u001b[0m \u001b[1;33m=\u001b[0m \u001b[0meigenvectors_x\u001b[0m \u001b[1;33m*\u001b[0m \u001b[0mx\u001b[0m \u001b[1;33m*\u001b[0m \u001b[0meigenvectors_x\u001b[0m\u001b[1;33m.\u001b[0m\u001b[0mdag\u001b[0m\u001b[1;33m(\u001b[0m\u001b[1;33m)\u001b[0m\u001b[1;33m\u001b[0m\u001b[1;33m\u001b[0m\u001b[0m\n\u001b[0;32m     10\u001b[0m \u001b[1;33m\u001b[0m\u001b[0m\n",
      "\u001b[1;31mAttributeError\u001b[0m: 'str' object has no attribute 'diagonalize'"
     ]
    }
   ],
   "source": [
    "from qiskit import QuantumCircuit, Aer, execute\n",
    "\n",
    "# Create the Pauli X and Pauli Y operators\n",
    "x = 'X' #Operator([[0, 1], [1, 0]])\n",
    "y = 'Y' #Operator([[0, -1j], [1j, 0]])\n",
    "\n",
    "# Diagonalize the Pauli X operator\n",
    "eigenvalues_x, eigenvectors_x = x.diagonalize()\n",
    "qc_x = eigenvectors_x * x * eigenvectors_x.dag()\n",
    "\n",
    "# Diagonalize the Pauli Y operator\n",
    "eigenvalues_y, eigenvectors_y = y.diagonalize()\n",
    "qc_y = eigenvectors_y * y * eigenvectors_y.dag()\n",
    "\n",
    "# Prepare the state |0⟩\n",
    "state_circuit = QuantumCircuit(1)\n",
    "state_circuit.i(0)\n",
    "\n",
    "# Combine the state circuit and the diagonalized observable circuits\n",
    "circuit = state_circuit + qc_x + qc_y\n"
   ]
  },
  {
   "cell_type": "code",
   "execution_count": null,
   "metadata": {},
   "outputs": [],
   "source": []
  }
 ],
 "metadata": {
  "kernelspec": {
   "display_name": "Python 3",
   "language": "python",
   "name": "python3"
  },
  "language_info": {
   "codemirror_mode": {
    "name": "ipython",
    "version": 3
   },
   "file_extension": ".py",
   "mimetype": "text/x-python",
   "name": "python",
   "nbconvert_exporter": "python",
   "pygments_lexer": "ipython3",
   "version": "3.8.5"
  }
 },
 "nbformat": 4,
 "nbformat_minor": 4
}
