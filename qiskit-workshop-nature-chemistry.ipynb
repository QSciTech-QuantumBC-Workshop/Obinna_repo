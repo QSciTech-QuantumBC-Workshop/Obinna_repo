{
 "cells": [
  {
   "cell_type": "markdown",
   "metadata": {},
   "source": [
    "# Qiskit Workshop: Computing molecular energy states with Qiskit Nature\n",
    "\n"
   ]
  },
  {
   "cell_type": "code",
   "execution_count": 2,
   "metadata": {},
   "outputs": [],
   "source": [
    "%matplotlib inline\n",
    "# Importing standard Qiskit libraries\n",
    "from qiskit import QuantumCircuit, execute, Aer, IBMQ\n",
    "from qiskit.compiler import transpile, assemble\n",
    "from qiskit.tools.jupyter import *\n",
    "from qiskit.visualization import *\n",
    "# from ibm_quantum_widgets import *\n",
    "\n",
    "# Loading your IBM Q account(s)\n",
    "provider = IBMQ.load_account()"
   ]
  },
  {
   "cell_type": "code",
   "execution_count": 3,
   "metadata": {},
   "outputs": [],
   "source": [
    "# Import other needed libraries\n",
    "import numpy as np\n",
    "import matplotlib.pyplot as plt"
   ]
  },
  {
   "cell_type": "markdown",
   "metadata": {},
   "source": [
    "---\n",
    "\n",
    "## Introduction\n",
    "\n",
    "**Goal**: Solve non-relativistic time independent Schroedinger equation,\n",
    "\n",
    "<center>\n",
    "    $\\mathcal{H}_{\\text{el}} |\\Psi_{n}\\rangle = E_{n} |\\Psi_{n}\\rangle$\n",
    "</center>\n",
    "\n",
    "to find the energies $E_n$. The ground state energy, $E_0$, given by:\n",
    "\n",
    "<center>\n",
    "    $E_0 = \\frac{\\langle \\Psi_0 | H_{\\text{el}} | \\Psi_0 \\rangle}{\\langle \\Psi_0 | \\Psi_0 \\rangle}$\n",
    "</center>\n",
    "\n",
    "**Solution**: Use eigenvalue solver to find energies $E_n$."
   ]
  },
  {
   "cell_type": "markdown",
   "metadata": {},
   "source": [
    "---\n",
    "\n",
    "## Qiskit Nature features\n",
    "- Interfaces to common classical chemistry libraries/programs (\"drivers\")\n",
    "    - Gaussian\n",
    "    - PSI4\n",
    "    - PyQuante\n",
    "    - PYSCF\n",
    "- Functions to map various operators to qubit operators\n",
    "- Common ansatz preparation circuits for variational solvers"
   ]
  },
  {
   "cell_type": "markdown",
   "metadata": {},
   "source": [
    "---\n",
    "\n",
    "## Setting up the problem"
   ]
  },
  {
   "cell_type": "markdown",
   "metadata": {},
   "source": [
    "### Step 1: Create molecule and the driver"
   ]
  },
  {
   "cell_type": "code",
   "execution_count": 4,
   "metadata": {},
   "outputs": [
    {
     "ename": "AttributeError",
     "evalue": "module 'numpy' has no attribute 'typeDict'",
     "output_type": "error",
     "traceback": [
      "\u001b[1;31m---------------------------------------------------------------------------\u001b[0m",
      "\u001b[1;31mAttributeError\u001b[0m                            Traceback (most recent call last)",
      "\u001b[1;32m<ipython-input-4-10c6f0ca01a1>\u001b[0m in \u001b[0;36m<module>\u001b[1;34m\u001b[0m\n\u001b[1;32m----> 1\u001b[1;33m \u001b[1;32mfrom\u001b[0m \u001b[0mqiskit_nature\u001b[0m\u001b[1;33m.\u001b[0m\u001b[0msecond_q\u001b[0m\u001b[1;33m.\u001b[0m\u001b[0mdrivers\u001b[0m \u001b[1;32mimport\u001b[0m \u001b[0mPySCFDriver\u001b[0m\u001b[1;33m\u001b[0m\u001b[1;33m\u001b[0m\u001b[0m\n\u001b[0m\u001b[0;32m      2\u001b[0m \u001b[1;32mfrom\u001b[0m \u001b[0mqiskit_nature\u001b[0m\u001b[1;33m.\u001b[0m\u001b[0msecond_q\u001b[0m\u001b[1;33m.\u001b[0m\u001b[0mformats\u001b[0m\u001b[1;33m.\u001b[0m\u001b[0mmolecule_info\u001b[0m \u001b[1;32mimport\u001b[0m \u001b[0mMoleculeInfo\u001b[0m\u001b[1;33m\u001b[0m\u001b[1;33m\u001b[0m\u001b[0m\n\u001b[0;32m      3\u001b[0m \u001b[1;33m\u001b[0m\u001b[0m\n\u001b[0;32m      4\u001b[0m \u001b[1;31m# Create molecule\u001b[0m\u001b[1;33m\u001b[0m\u001b[1;33m\u001b[0m\u001b[1;33m\u001b[0m\u001b[0m\n\u001b[0;32m      5\u001b[0m molecule = MoleculeInfo(['H', 'H'], [(0., 0., 0.), (0., 0., 0.735)],\n",
      "\u001b[1;32m~\\Anaconda3\\lib\\site-packages\\qiskit_nature\\second_q\\drivers\\__init__.py\u001b[0m in \u001b[0;36m<module>\u001b[1;34m\u001b[0m\n\u001b[0;32m     90\u001b[0m \u001b[1;32mfrom\u001b[0m \u001b[1;33m.\u001b[0m\u001b[0mbase_driver\u001b[0m \u001b[1;32mimport\u001b[0m \u001b[0mBaseDriver\u001b[0m\u001b[1;33m\u001b[0m\u001b[1;33m\u001b[0m\u001b[0m\n\u001b[0;32m     91\u001b[0m \u001b[1;32mfrom\u001b[0m \u001b[1;33m.\u001b[0m\u001b[0mvibrational_structure_driver\u001b[0m \u001b[1;32mimport\u001b[0m \u001b[0mVibrationalStructureDriver\u001b[0m\u001b[1;33m\u001b[0m\u001b[1;33m\u001b[0m\u001b[0m\n\u001b[1;32m---> 92\u001b[1;33m \u001b[1;32mfrom\u001b[0m \u001b[1;33m.\u001b[0m\u001b[0melectronic_structure_driver\u001b[0m \u001b[1;32mimport\u001b[0m \u001b[0mElectronicStructureDriver\u001b[0m\u001b[1;33m,\u001b[0m \u001b[0mMethodType\u001b[0m\u001b[1;33m\u001b[0m\u001b[1;33m\u001b[0m\u001b[0m\n\u001b[0m\u001b[0;32m     93\u001b[0m \u001b[1;32mfrom\u001b[0m \u001b[1;33m.\u001b[0m\u001b[0mgaussiand\u001b[0m \u001b[1;32mimport\u001b[0m \u001b[0mGaussianDriver\u001b[0m\u001b[1;33m,\u001b[0m \u001b[0mGaussianLogDriver\u001b[0m\u001b[1;33m,\u001b[0m \u001b[0mGaussianLogResult\u001b[0m\u001b[1;33m,\u001b[0m \u001b[0mGaussianForcesDriver\u001b[0m\u001b[1;33m\u001b[0m\u001b[1;33m\u001b[0m\u001b[0m\n\u001b[0;32m     94\u001b[0m \u001b[1;32mfrom\u001b[0m \u001b[1;33m.\u001b[0m\u001b[0mpsi4d\u001b[0m \u001b[1;32mimport\u001b[0m \u001b[0mPsi4Driver\u001b[0m\u001b[1;33m\u001b[0m\u001b[1;33m\u001b[0m\u001b[0m\n",
      "\u001b[1;32m~\\Anaconda3\\lib\\site-packages\\qiskit_nature\\second_q\\drivers\\electronic_structure_driver.py\u001b[0m in \u001b[0;36m<module>\u001b[1;34m\u001b[0m\n\u001b[0;32m     24\u001b[0m \u001b[1;32mfrom\u001b[0m \u001b[0mpathlib\u001b[0m \u001b[1;32mimport\u001b[0m \u001b[0mPath\u001b[0m\u001b[1;33m\u001b[0m\u001b[1;33m\u001b[0m\u001b[0m\n\u001b[0;32m     25\u001b[0m \u001b[1;32mimport\u001b[0m \u001b[0mnumpy\u001b[0m \u001b[1;32mas\u001b[0m \u001b[0mnp\u001b[0m\u001b[1;33m\u001b[0m\u001b[1;33m\u001b[0m\u001b[0m\n\u001b[1;32m---> 26\u001b[1;33m \u001b[1;32mimport\u001b[0m \u001b[0mh5py\u001b[0m\u001b[1;33m\u001b[0m\u001b[1;33m\u001b[0m\u001b[0m\n\u001b[0m\u001b[0;32m     27\u001b[0m \u001b[1;33m\u001b[0m\u001b[0m\n\u001b[0;32m     28\u001b[0m from qiskit_nature.second_q.formats.qcschema import (\n",
      "\u001b[1;32m~\\Anaconda3\\lib\\site-packages\\h5py\\__init__.py\u001b[0m in \u001b[0;36m<module>\u001b[1;34m\u001b[0m\n\u001b[0;32m     44\u001b[0m \u001b[0m_errors\u001b[0m\u001b[1;33m.\u001b[0m\u001b[0msilence_errors\u001b[0m\u001b[1;33m(\u001b[0m\u001b[1;33m)\u001b[0m\u001b[1;33m\u001b[0m\u001b[1;33m\u001b[0m\u001b[0m\n\u001b[0;32m     45\u001b[0m \u001b[1;33m\u001b[0m\u001b[0m\n\u001b[1;32m---> 46\u001b[1;33m \u001b[1;32mfrom\u001b[0m \u001b[1;33m.\u001b[0m\u001b[0m_conv\u001b[0m \u001b[1;32mimport\u001b[0m \u001b[0mregister_converters\u001b[0m \u001b[1;32mas\u001b[0m \u001b[0m_register_converters\u001b[0m\u001b[1;33m\u001b[0m\u001b[1;33m\u001b[0m\u001b[0m\n\u001b[0m\u001b[0;32m     47\u001b[0m \u001b[0m_register_converters\u001b[0m\u001b[1;33m(\u001b[0m\u001b[1;33m)\u001b[0m\u001b[1;33m\u001b[0m\u001b[1;33m\u001b[0m\u001b[0m\n\u001b[0;32m     48\u001b[0m \u001b[1;33m\u001b[0m\u001b[0m\n",
      "\u001b[1;32mh5py\\h5t.pxd\u001b[0m in \u001b[0;36minit h5py._conv\u001b[1;34m()\u001b[0m\n",
      "\u001b[1;32mh5py\\h5t.pyx\u001b[0m in \u001b[0;36minit h5py.h5t\u001b[1;34m()\u001b[0m\n",
      "\u001b[1;32m~\\Anaconda3\\lib\\site-packages\\numpy\\__init__.py\u001b[0m in \u001b[0;36m__getattr__\u001b[1;34m(attr)\u001b[0m\n\u001b[0;32m    282\u001b[0m             \u001b[1;32mreturn\u001b[0m \u001b[0mTester\u001b[0m\u001b[1;33m\u001b[0m\u001b[1;33m\u001b[0m\u001b[0m\n\u001b[0;32m    283\u001b[0m \u001b[1;33m\u001b[0m\u001b[0m\n\u001b[1;32m--> 284\u001b[1;33m         raise AttributeError(\"module {!r} has no attribute \"\n\u001b[0m\u001b[0;32m    285\u001b[0m                              \"{!r}\".format(__name__, attr))\n\u001b[0;32m    286\u001b[0m \u001b[1;33m\u001b[0m\u001b[0m\n",
      "\u001b[1;31mAttributeError\u001b[0m: module 'numpy' has no attribute 'typeDict'"
     ]
    }
   ],
   "source": [
    "from qiskit_nature.second_q.drivers import PySCFDriver\n",
    "from qiskit_nature.second_q.formats.molecule_info import MoleculeInfo\n",
    "\n",
    "# Create molecule\n",
    "molecule = MoleculeInfo(['H', 'H'], [(0., 0., 0.), (0., 0., 0.735)],\n",
    "                        charge=0, \n",
    "                        multiplicity=1)\n",
    "\n",
    "# Instantiate driver\n",
    "driver = PySCFDriver.from_molecule(molecule = molecule, basis='sto3g')"
   ]
  },
  {
   "cell_type": "markdown",
   "metadata": {},
   "source": [
    "<br>\n",
    "\n",
    "*Step 2a:* Get the `ElectronicStructureProblem` object by running the driver and compute Second quantization operator"
   ]
  },
  {
   "cell_type": "code",
   "execution_count": 4,
   "metadata": {},
   "outputs": [
    {
     "name": "stdout",
     "output_type": "stream",
     "text": [
      "Fermionic Operator\n",
      "number spin orbitals=4, number terms=36\n",
      "  0.33785507740175813 * ( +_0 +_0 -_0 -_0 )\n",
      "+ 0.09046559989211565 * ( +_0 +_0 -_1 -_1 )\n",
      "+ 0.09046559989211556 * ( +_0 +_1 -_0 -_1 )\n",
      "+ 0.33229086512764827 * ( +_0 +_1 -_1 -_0 )\n",
      "+ 0.33785507740175813 * ( +_0 +_2 -_2 -_0 )\n",
      "+ 0.09046559989211565 * ( +_0 +_2 -_3 -_1 )\n",
      "+ 0.09046559989211556 * ( +_0 +_3 -_2 -_1 )\n",
      "+ 0.33229086512764827 * ( +_0 +_3 -_3 -_0 )\n",
      "+ 0.33229086512764816 * ( +_1 +_0 -_0 -_1 )\n",
      "+ 0.09046559989211574 * ( +_1 +_0 -_1 -_0 )\n",
      "+ 0.09046559989211564 * ( +_1 +_1 -_0 -_0 )\n",
      "+ 0.34928686136600906 * ( +_1 +_1 -_1 -_1 )\n",
      "+ 0.33229086512764816 * ( +_1 +_2 -_2 -_1 )\n",
      "+ 0.09046559989211574 * ( +_1 +_2 -_3 -_0 )\n",
      "+ 0.09046559989211564 * ( +_1 +_3 -_2 -_0 )\n",
      "+ 0.34928686136600906 * ( +_1 +_3 -_3 -_1 )\n",
      "+ 0.33785507740175813 * ( +_2 +_0 -_0 -_2 )\n",
      "+ 0.09046559989211565 * ( +_2 +_0 -_1 -_3 )\n",
      "+ 0.09046559989211556 * ( +_2 +_1 -_0 -_3 )\n",
      "+ 0.33229086512764827 * ( +_2 +_1 -_1 -_2 )\n",
      "+ 0.33785507740175813 * ( +_2 +_2 -_2 -_2 )\n",
      "+ 0.09046559989211565 * ( +_2 +_2 -_3 -_3 )\n",
      "+ 0.09046559989211556 * ( +_2 +_3 -_2 -_3 )\n",
      "+ 0.33229086512764827 * ( +_2 +_3 -_3 -_2 )\n",
      "+ 0.33229086512764816 * ( +_3 +_0 -_0 -_3 )\n",
      "+ 0.09046559989211574 * ( +_3 +_0 -_1 -_2 )\n",
      "+ 0.09046559989211564 * ( +_3 +_1 -_0 -_2 )\n",
      "+ 0.34928686136600906 * ( +_3 +_1 -_1 -_3 )\n",
      "+ 0.33229086512764816 * ( +_3 +_2 -_2 -_3 )\n",
      "+ 0.09046559989211574 * ( +_3 +_2 -_3 -_2 )\n",
      "+ 0.09046559989211564 * ( +_3 +_3 -_2 -_2 )\n",
      "+ 0.34928686136600906 * ( +_3 +_3 -_3 -_3 )\n",
      "+ -1.2563390730032498 * ( +_0 -_0 )\n",
      "+ -0.47189600728114245 * ( +_1 -_1 )\n",
      "+ -1.2563390730032498 * ( +_2 -_2 )\n",
      "+ -0.47189600728114245 * ( +_3 -_3 )\n"
     ]
    }
   ],
   "source": [
    "es_problem = driver.run()\n",
    "second_q_op = es_problem.hamiltonian.second_q_op()\n",
    "print(second_q_op)"
   ]
  },
  {
   "cell_type": "markdown",
   "metadata": {},
   "source": [
    "<br>\n",
    "\n",
    "*Step 2b:* Map to qubit spin operators\n",
    "\n",
    "Available mappings:\n",
    "- Jordan-Wigner\n",
    "- Parity\n",
    "- Bravyi-Kitaev"
   ]
  },
  {
   "cell_type": "code",
   "execution_count": 5,
   "metadata": {},
   "outputs": [
    {
     "name": "stdout",
     "output_type": "stream",
     "text": [
      "-0.8105479805373283 * IIII\n",
      "+ 0.17218393261915543 * IIIZ\n",
      "- 0.2257534922240237 * IIZI\n",
      "+ 0.12091263261776633 * IIZZ\n",
      "+ 0.17218393261915543 * IZII\n",
      "+ 0.16892753870087907 * IZIZ\n",
      "+ 0.045232799946057826 * YYYY\n",
      "+ 0.045232799946057826 * XXYY\n",
      "+ 0.045232799946057826 * YYXX\n",
      "+ 0.045232799946057826 * XXXX\n",
      "- 0.22575349222402363 * ZIII\n",
      "+ 0.1661454325638241 * ZIIZ\n",
      "+ 0.16614543256382408 * IZZI\n",
      "+ 0.1746434306830045 * ZIZI\n",
      "+ 0.12091263261776633 * ZZII\n"
     ]
    }
   ],
   "source": [
    "from qiskit_nature.second_q.mappers import JordanWignerMapper, QubitConverter\n",
    "\n",
    "jw_qubit_converter = QubitConverter(mapper=JordanWignerMapper())\n",
    "jw_qubit_op = jw_qubit_converter.convert(second_q_op)\n",
    "print(jw_qubit_op)"
   ]
  },
  {
   "cell_type": "code",
   "execution_count": 6,
   "metadata": {},
   "outputs": [
    {
     "name": "stdout",
     "output_type": "stream",
     "text": [
      "-1.0523732457728605 * II\n",
      "+ 0.39793742484317896 * IZ\n",
      "- 0.39793742484317896 * ZI\n",
      "- 0.01128010425623538 * ZZ\n",
      "+ 0.18093119978423122 * XX\n"
     ]
    }
   ],
   "source": [
    "from qiskit_nature.second_q.mappers import ParityMapper\n",
    "\n",
    "pr_qubit_converter = QubitConverter(mapper=ParityMapper(), two_qubit_reduction=True)\n",
    "pr_qubit_op = pr_qubit_converter.convert(second_q_op, num_particles=es_problem.num_particles)\n",
    "print(pr_qubit_op)"
   ]
  },
  {
   "cell_type": "markdown",
   "metadata": {},
   "source": [
    "---\n",
    "\n",
    "## Solve for ground state energy using VQE\n",
    "\n",
    "<img src=https://qiskit.org/documentation/nature/_images/vqe.png width=1000px>"
   ]
  },
  {
   "cell_type": "markdown",
   "metadata": {},
   "source": [
    "### Step 1: Create VQE solver\n",
    "\n",
    "#### Method A: Create/Instatiate a parameterized ansatz circuit, then pass to `VQE` class\n",
    "\n",
    "Available ansatz circuits / variational forms:\n",
    "- `TwoLocal`\n",
    "- `EfficientSU2`\n",
    "- `UCC` (Unitary coupled cluster)"
   ]
  },
  {
   "cell_type": "code",
   "execution_count": 7,
   "metadata": {},
   "outputs": [],
   "source": [
    "n = jw_qubit_op.num_qubits\n",
    "#n = pr_qubit_op.num_qubits"
   ]
  },
  {
   "cell_type": "code",
   "execution_count": 8,
   "metadata": {},
   "outputs": [
    {
     "data": {
      "image/png": "[encoded data removed]",
      "text/plain": [
       "<Figure size 1531.4x264.88 with 1 Axes>"
      ]
     },
     "execution_count": 8,
     "metadata": {},
     "output_type": "execute_result"
    }
   ],
   "source": [
    "from qiskit.circuit.library import TwoLocal\n",
    "\n",
    "tl_circ = TwoLocal(num_qubits = n, rotation_blocks = ['h', 'rx'], entanglement_blocks = 'cz',\n",
    "                      entanglement='full', reps=3, parameter_prefix = 'y')\n",
    "tl_circ.decompose().draw()"
   ]
  },
  {
   "cell_type": "code",
   "execution_count": 9,
   "metadata": {},
   "outputs": [
    {
     "data": {
      "image/png": "[encoded data removed]",
      "text/plain": [
       "<Figure size 989.597x264.88 with 1 Axes>"
      ]
     },
     "execution_count": 9,
     "metadata": {},
     "output_type": "execute_result"
    }
   ],
   "source": [
    "from qiskit.circuit.library import EfficientSU2\n",
    "\n",
    "su2_circ = EfficientSU2(num_qubits=n, entanglement='linear')\n",
    "su2_circ.decompose().draw()"
   ]
  },
  {
   "cell_type": "code",
   "execution_count": 10,
   "metadata": {},
   "outputs": [
    {
     "data": {
      "image/png": "[encoded data removed]",
      "text/plain": [
       "<Figure size 568.197x264.88 with 1 Axes>"
      ]
     },
     "execution_count": 10,
     "metadata": {},
     "output_type": "execute_result"
    }
   ],
   "source": [
    "from qiskit_nature.circuit.library import UCC\n",
    "\n",
    "ucc_circ = UCC(excitations='s',\n",
    "               qubit_converter=jw_qubit_converter, \n",
    "               num_particles=es_problem.num_particles, \n",
    "               num_spin_orbitals=2*es_problem.num_spatial_orbitals)\n",
    "ucc_circ.decompose().draw()"
   ]
  },
  {
   "cell_type": "markdown",
   "metadata": {},
   "source": [
    "<br> \n",
    "\n",
    "Now, create the VQE solver with the desired ansatz"
   ]
  },
  {
   "cell_type": "code",
   "execution_count": 21,
   "metadata": {},
   "outputs": [],
   "source": [
    "from qiskit.algorithms.minimum_eigensolvers import VQE\n",
    "from qiskit.primitives import Estimator\n",
    "from qiskit.algorithms.optimizers import SLSQP, COBYLA\n",
    "\n",
    "vqe_solver = VQE(Estimator(), su2_circ, COBYLA())"
   ]
  },
  {
   "cell_type": "markdown",
   "metadata": {},
   "source": [
    "<br>\n",
    "\n",
    "#### Method B: Use pre-built ansatz+VQE from factory class"
   ]
  },
  {
   "cell_type": "code",
   "execution_count": 12,
   "metadata": {},
   "outputs": [],
   "source": [
    "from qiskit_nature.second_q.algorithms import VQEUCCFactory\n",
    "from qiskit_nature.second_q.circuit.library import UCCSD\n",
    "\n",
    "# Instantiate the VQE solver with the Unitary Coupled Cluster (UCCSD) ansatz\n",
    "vqeucc_solver = VQEUCCFactory(Estimator(), UCCSD(), SLSQP())"
   ]
  },
  {
   "cell_type": "markdown",
   "metadata": {},
   "source": [
    "<br>\n",
    "\n",
    "### Step 2: Run ground state solver"
   ]
  },
  {
   "cell_type": "code",
   "execution_count": 13,
   "metadata": {},
   "outputs": [],
   "source": [
    "# Choose your converter!\n",
    "\n",
    "# JW mapping (uses 4 qubits)\n",
    "qubit_converter = jw_qubit_converter\n",
    "\n",
    "# Parity mapping using 2 qubits\n",
    "#qubit_converter = pr_qubit_converter"
   ]
  },
  {
   "cell_type": "markdown",
   "metadata": {},
   "source": [
    "<br> \n",
    "\n",
    "Using the `VQE` class with `EfficientSU2`"
   ]
  },
  {
   "cell_type": "code",
   "execution_count": 24,
   "metadata": {},
   "outputs": [],
   "source": [
    "# Callback function to display intermediate results\n",
    "def callback(eval_count, params, value, metadata):\n",
    "    if eval_count % 10 == 0:\n",
    "        print(\"Iteration:\", eval_count, \" value=\", value)\n",
    "    \n",
    "vqe_solver.callback = callback"
   ]
  },
  {
   "cell_type": "code",
   "execution_count": 15,
   "metadata": {},
   "outputs": [],
   "source": [
    "from qiskit_nature.second_q.algorithms import GroundStateEigensolver"
   ]
  },
  {
   "cell_type": "code",
   "execution_count": 25,
   "metadata": {},
   "outputs": [
    {
     "name": "stdout",
     "output_type": "stream",
     "text": [
      "Iteration: 10  value= -1.0267367456520897\n",
      "Iteration: 20  value= -0.9183593495070608\n",
      "Iteration: 30  value= -1.1422002839679588\n",
      "Iteration: 40  value= -1.06314406543205\n",
      "Iteration: 50  value= -1.2708397646226777\n",
      "Iteration: 60  value= -1.3432034031235096\n",
      "Iteration: 70  value= -1.3438277548312718\n",
      "Iteration: 80  value= -1.5417754431521233\n",
      "Iteration: 90  value= -1.4918637098136112\n",
      "Iteration: 100  value= -1.6587543961305957\n",
      "Iteration: 110  value= -1.6057750659616932\n",
      "Iteration: 120  value= -1.664461679519049\n",
      "Iteration: 130  value= -1.7215968149525174\n",
      "Iteration: 140  value= -1.7358997528664988\n",
      "Iteration: 150  value= -1.7599810846217163\n",
      "Iteration: 160  value= -1.7813140316895968\n",
      "Iteration: 170  value= -1.8020529429197654\n",
      "Iteration: 180  value= -1.8079421745387254\n",
      "Iteration: 190  value= -1.8301981561571723\n",
      "Iteration: 200  value= -1.824001059768991\n",
      "Iteration: 210  value= -1.8315319692270897\n",
      "Iteration: 220  value= -1.8379112213541997\n",
      "Iteration: 230  value= -1.8402370131785606\n",
      "Iteration: 240  value= -1.8420243062464348\n",
      "Iteration: 250  value= -1.8481019014569178\n",
      "Iteration: 260  value= -1.8482441113780992\n",
      "Iteration: 270  value= -1.8470711296162874\n",
      "Iteration: 280  value= -1.8506568820591065\n",
      "Iteration: 290  value= -1.8513093768867657\n",
      "Iteration: 300  value= -1.8510562405338291\n",
      "Iteration: 310  value= -1.853390752507499\n",
      "Iteration: 320  value= -1.8532468646783355\n",
      "Iteration: 330  value= -1.853174674909591\n",
      "Iteration: 340  value= -1.8537353523759676\n",
      "Iteration: 350  value= -1.8539857224215408\n",
      "Iteration: 360  value= -1.8544878870260866\n",
      "Iteration: 370  value= -1.854908004006806\n",
      "Iteration: 380  value= -1.8549695639574437\n",
      "Iteration: 390  value= -1.8551741370643464\n",
      "Iteration: 400  value= -1.855283923331458\n",
      "Iteration: 410  value= -1.8555295257688085\n",
      "Iteration: 420  value= -1.8555740061083588\n",
      "Iteration: 430  value= -1.855706273094038\n",
      "Iteration: 440  value= -1.855857806190709\n",
      "Iteration: 450  value= -1.8559355925634191\n",
      "Iteration: 460  value= -1.855965963347059\n",
      "Iteration: 470  value= -1.8560204718186892\n",
      "Iteration: 480  value= -1.8560796431162832\n",
      "Iteration: 490  value= -1.8561150731972447\n",
      "Iteration: 500  value= -1.8561364079751475\n",
      "Iteration: 510  value= -1.8561506198625324\n",
      "Iteration: 520  value= -1.856222270847318\n",
      "Iteration: 530  value= -1.8562416831791655\n",
      "Iteration: 540  value= -1.8563026113237904\n",
      "Iteration: 550  value= -1.8562933119747493\n",
      "Iteration: 560  value= -1.8562790950851906\n",
      "Iteration: 570  value= -1.8563642510571183\n",
      "Iteration: 580  value= -1.8563623306400086\n",
      "Iteration: 590  value= -1.8564020379009702\n",
      "Iteration: 600  value= -1.8564188030888584\n",
      "Iteration: 610  value= -1.856453349181367\n",
      "Iteration: 620  value= -1.8564709930599665\n",
      "Iteration: 630  value= -1.8565025863251645\n",
      "Iteration: 640  value= -1.8565144567007\n",
      "Iteration: 650  value= -1.8565635310211708\n",
      "Iteration: 660  value= -1.856577645939758\n",
      "Iteration: 670  value= -1.8565910185139602\n",
      "Iteration: 680  value= -1.856598282426752\n",
      "Iteration: 690  value= -1.8566193843501626\n",
      "Iteration: 700  value= -1.8566187943574974\n",
      "Iteration: 710  value= -1.8566404851219251\n",
      "Iteration: 720  value= -1.8566540889323961\n",
      "Iteration: 730  value= -1.8566867244999414\n",
      "Iteration: 740  value= -1.856701871782879\n",
      "Iteration: 750  value= -1.8567194223718615\n",
      "Iteration: 760  value= -1.856724741789886\n",
      "Iteration: 770  value= -1.856742407127813\n",
      "Iteration: 780  value= -1.8567500165834994\n",
      "Iteration: 790  value= -1.8567700823473263\n",
      "Iteration: 800  value= -1.8567831929147132\n",
      "Iteration: 810  value= -1.8567834419250602\n",
      "Iteration: 820  value= -1.856791636764063\n",
      "Iteration: 830  value= -1.856794438368609\n",
      "Iteration: 840  value= -1.8568061762947228\n",
      "Iteration: 850  value= -1.85680877214346\n",
      "Iteration: 860  value= -1.8568382555318155\n",
      "Iteration: 870  value= -1.8568460022042306\n",
      "Iteration: 880  value= -1.8568519614378818\n",
      "Iteration: 890  value= -1.8568713273519302\n",
      "Iteration: 900  value= -1.8568867220518908\n",
      "Iteration: 910  value= -1.8568975922561082\n",
      "Iteration: 920  value= -1.8569143488684259\n",
      "Iteration: 930  value= -1.8569243563694724\n",
      "Iteration: 940  value= -1.8569324680416737\n",
      "Iteration: 950  value= -1.8569332057472436\n",
      "Iteration: 960  value= -1.8569474836504498\n",
      "Iteration: 970  value= -1.856947484630587\n",
      "Iteration: 980  value= -1.8569733985968642\n",
      "Iteration: 990  value= -1.8569721722053132\n",
      "Iteration: 1000  value= -1.856990513917279\n",
      "=== GROUND STATE ENERGY ===\n",
      " \n",
      "* Electronic ground state energy (Hartree): -1.856990513917\n",
      "  - computed part:      -1.856990513917\n",
      "~ Nuclear repulsion energy (Hartree): 0.719968994449\n",
      "> Total ground state energy (Hartree): -1.137021519468\n",
      " \n",
      "=== MEASURED OBSERVABLES ===\n",
      " \n",
      "  0:  # Particles: 2.000 S: 0.000 S^2: 0.000 M: 0.000\n",
      " \n",
      "=== DIPOLE MOMENTS ===\n",
      " \n",
      "~ Nuclear dipole moment (a.u.): [0.0  0.0  1.3889487]\n",
      " \n",
      "  0: \n",
      "  * Electronic dipole moment (a.u.): [0.0  0.0  1.39105995]\n",
      "    - computed part:      [0.0  0.0  1.39105995]\n",
      "  > Dipole moment (a.u.): [0.0  0.0  -0.00211125]  Total: 0.00211125\n",
      "                 (debye): [0.0  0.0  -0.00536627]  Total: 0.00536627\n",
      " \n"
     ]
    }
   ],
   "source": [
    "from qiskit_nature.second_q.algorithms import GroundStateEigensolver\n",
    "\n",
    "# Using the VQE class with EfficientSU2 ansatz\n",
    "su2_gsc = GroundStateEigensolver(qubit_converter, vqe_solver)\n",
    "result = su2_gsc.solve(es_problem)\n",
    "\n",
    "print(result)"
   ]
  },
  {
   "cell_type": "markdown",
   "metadata": {},
   "source": [
    "<br>\n",
    "\n",
    "Using `VQEUCCFactory`"
   ]
  },
  {
   "cell_type": "code",
   "execution_count": 21,
   "metadata": {},
   "outputs": [
    {
     "name": "stdout",
     "output_type": "stream",
     "text": [
      "=== GROUND STATE ENERGY ===\n",
      " \n",
      "* Electronic ground state energy (Hartree): -1.857275030145\n",
      "  - computed part:      -1.857275030145\n",
      "~ Nuclear repulsion energy (Hartree): 0.719968994449\n",
      "> Total ground state energy (Hartree): -1.137306035696\n",
      " \n",
      "=== MEASURED OBSERVABLES ===\n",
      " \n",
      "  0:  # Particles: 2.000 S: 0.000 S^2: 0.000 M: 0.000\n",
      " \n",
      "=== DIPOLE MOMENTS ===\n",
      " \n",
      "~ Nuclear dipole moment (a.u.): [0.0  0.0  1.3889487]\n",
      " \n",
      "  0: \n",
      "  * Electronic dipole moment (a.u.): [0.0  0.0  1.38894866]\n",
      "    - computed part:      [0.0  0.0  1.38894866]\n",
      "  > Dipole moment (a.u.): [0.0  0.0  0.00000004]  Total: 0.00000004\n",
      "                 (debye): [0.0  0.0  0.00000011]  Total: 0.00000011\n",
      " \n"
     ]
    }
   ],
   "source": [
    "# Using the VQE UCC Factory class solver\n",
    "ucc_gsc = GroundStateEigensolver(qubit_converter, vqeucc_solver)\n",
    "result = ucc_gsc.solve(es_problem)\n",
    "\n",
    "print(result)"
   ]
  },
  {
   "cell_type": "markdown",
   "metadata": {},
   "source": [
    "<br>\n",
    "\n",
    "Check against classical solver"
   ]
  },
  {
   "cell_type": "code",
   "execution_count": 17,
   "metadata": {},
   "outputs": [
    {
     "name": "stdout",
     "output_type": "stream",
     "text": [
      "=== GROUND STATE ENERGY ===\n",
      " \n",
      "* Electronic ground state energy (Hartree): -1.857275030202\n",
      "  - computed part:      -1.857275030202\n",
      "~ Nuclear repulsion energy (Hartree): 0.719968994449\n",
      "> Total ground state energy (Hartree): -1.137306035753\n",
      " \n",
      "=== MEASURED OBSERVABLES ===\n",
      " \n",
      "  0:  # Particles: 2.000 S: 0.000 S^2: 0.000 M: 0.000\n",
      " \n",
      "=== DIPOLE MOMENTS ===\n",
      " \n",
      "~ Nuclear dipole moment (a.u.): [0.0  0.0  1.3889487]\n",
      " \n",
      "  0: \n",
      "  * Electronic dipole moment (a.u.): [0.0  0.0  1.3889487]\n",
      "    - computed part:      [0.0  0.0  1.3889487]\n",
      "  > Dipole moment (a.u.): [0.0  0.0  0.0]  Total: 0.0\n",
      "                 (debye): [0.0  0.0  0.0]  Total: 0.0\n",
      " \n"
     ]
    }
   ],
   "source": [
    "# Check against classical solver\n",
    "from qiskit.algorithms.minimum_eigensolvers import NumPyMinimumEigensolver\n",
    "\n",
    "numpy_solver = NumPyMinimumEigensolver()\n",
    "\n",
    "np_gsc = GroundStateEigensolver(qubit_converter, numpy_solver)\n",
    "np_result = np_gsc.solve(es_problem)\n",
    "\n",
    "print(np_result)"
   ]
  },
  {
   "cell_type": "markdown",
   "metadata": {},
   "source": [
    "---\n",
    "\n",
    "## Calculating bond dissociation profile"
   ]
  },
  {
   "cell_type": "markdown",
   "metadata": {},
   "source": [
    "### Step 1: Create molecule with `degrees_of_freedom` parameter"
   ]
  },
  {
   "cell_type": "code",
   "execution_count": 18,
   "metadata": {},
   "outputs": [],
   "source": [
    "# Specify degree of freedom (points of interest)\n",
    "n_points = 10\n",
    "points = np.linspace(0.25, 2, n_points)"
   ]
  },
  {
   "cell_type": "markdown",
   "metadata": {},
   "source": [
    "<br>\n",
    "\n",
    "### Step 2: Compute potential energy surface using by changing the atom distance"
   ]
  },
  {
   "cell_type": "code",
   "execution_count": 19,
   "metadata": {},
   "outputs": [
    {
     "name": "stdout",
     "output_type": "stream",
     "text": [
      "Distance: 0.25 , energy: [-0.31225269]\n",
      "Distance: 0.4444444444444444 , energy: [-0.990597]\n",
      "Distance: 0.6388888888888888 , energy: [-1.11109142]\n",
      "Distance: 0.8333333333333334 , energy: [-1.13054769]\n",
      "Distance: 1.0277777777777777 , energy: [-1.09516831]\n",
      "Distance: 1.2222222222222223 , energy: [-1.05182672]\n",
      "Distance: 1.4166666666666667 , energy: [-1.0124047]\n",
      "Distance: 1.6111111111111112 , energy: [-0.98200569]\n",
      "Distance: 1.8055555555555556 , energy: [-0.96134827]\n",
      "Distance: 2.0 , energy: [-0.93992748]\n"
     ]
    }
   ],
   "source": [
    "energies = []\n",
    "for dist in points:\n",
    "    molecule.coords[1] = (0., 0., dist)\n",
    "    driver = PySCFDriver.from_molecule(molecule = molecule, basis='sto3g')\n",
    "    problem = driver.run()\n",
    "    su2_gsc = GroundStateEigensolver(qubit_converter, vqe_solver)\n",
    "    result = su2_gsc.solve(problem)\n",
    "    energies.append(result.total_energies)    \n",
    "    print(\"Distance:\", dist, \", energy:\", result.total_energies)"
   ]
  },
  {
   "cell_type": "code",
   "execution_count": 24,
   "metadata": {},
   "outputs": [
    {
     "data": {
      "text/plain": [
       "Text(0, 0.5, 'Energy')"
      ]
     },
     "execution_count": 24,
     "metadata": {},
     "output_type": "execute_result"
    },
    {
     "data": {
      "image/png": "[encoded data removed]",
      "text/plain": [
       "<Figure size 432x288 with 1 Axes>"
      ]
     },
     "metadata": {
      "needs_background": "light"
     },
     "output_type": "display_data"
    }
   ],
   "source": [
    "# Plot\n",
    "fig = plt.figure()\n",
    "plt.plot(points, energies, marker='o')\n",
    "plt.title('Dissociation profile')\n",
    "plt.xlabel('Interatomic distance')\n",
    "plt.ylabel('Energy')"
   ]
  },
  {
   "cell_type": "markdown",
   "metadata": {},
   "source": [
    "---\n",
    "\n",
    "## Computing excited state energies\n",
    "\n",
    "<img src=https://qiskit.org/documentation/nature/_images/H2_es.png width=200>\n",
    "\n",
    "Use *Quantum equation of motion* (QEOM) method.\n",
    "\n",
    "See article: P. Allitrault et al, [arxiv 1910.12890](https://arxiv.org/abs/1910.12890)"
   ]
  },
  {
   "cell_type": "code",
   "execution_count": 18,
   "metadata": {},
   "outputs": [
    {
     "name": "stdout",
     "output_type": "stream",
     "text": [
      "=== GROUND STATE ENERGY ===\n",
      " \n",
      "* Electronic ground state energy (Hartree): -1.857275030145\n",
      "  - computed part:      -1.857275030145\n",
      "~ Nuclear repulsion energy (Hartree): 0.719968994449\n",
      "> Total ground state energy (Hartree): -1.137306035696\n",
      " \n",
      "=== EXCITED STATE ENERGIES ===\n",
      " \n",
      "  1: \n",
      "* Electronic excited state energy (Hartree): -1.244586751054\n",
      "> Total excited state energy (Hartree): -0.524617756605\n",
      "  2: \n",
      "* Electronic excited state energy (Hartree): -0.882724351456\n",
      "> Total excited state energy (Hartree): -0.162755357007\n",
      "  3: \n",
      "* Electronic excited state energy (Hartree): -0.22491345405\n",
      "> Total excited state energy (Hartree): 0.495055540399\n",
      " \n",
      "=== MEASURED OBSERVABLES ===\n",
      " \n",
      "  0:  # Particles: 2.000 S: 0.000 S^2: 0.000 M: 0.000\n",
      " \n",
      "=== DIPOLE MOMENTS ===\n",
      " \n",
      "~ Nuclear dipole moment (a.u.): [0.0  0.0  1.3889487]\n",
      " \n",
      "  0: \n",
      "  * Electronic dipole moment (a.u.): [0.0  0.0  1.38894893]\n",
      "    - computed part:      [0.0  0.0  1.38894893]\n",
      "  > Dipole moment (a.u.): [0.0  0.0  -0.00000023]  Total: 0.00000023\n",
      "                 (debye): [0.0  0.0  -0.00000058]  Total: 0.00000058\n",
      " \n"
     ]
    }
   ],
   "source": [
    "from qiskit_nature.second_q.algorithms import QEOM\n",
    "\n",
    "qeom_solver = QEOM(ucc_gsc, Estimator(), \"sd\")\n",
    "\n",
    "qeom_results = qeom_solver.solve(es_problem)\n",
    "\n",
    "print(qeom_results)"
   ]
  },
  {
   "cell_type": "markdown",
   "metadata": {},
   "source": [
    "## Ground State Calculation using the Qiskit Runtime"
   ]
  },
  {
   "cell_type": "code",
   "execution_count": 26,
   "metadata": {},
   "outputs": [],
   "source": [
    "from qiskit_ibm_runtime import QiskitRuntimeService, Session\n",
    "from qiskit_ibm_runtime import Estimator\n",
    "\n",
    "service = QiskitRuntimeService()"
   ]
  },
  {
   "cell_type": "code",
   "execution_count": 27,
   "metadata": {},
   "outputs": [
    {
     "data": {
      "text/plain": [
       "[<IBMBackend('ibmq_qasm_simulator')>,\n",
       " <IBMBackend('ibmq_lima')>,\n",
       " <IBMBackend('ibmq_belem')>,\n",
       " <IBMBackend('ibmq_quito')>,\n",
       " <IBMBackend('simulator_statevector')>,\n",
       " <IBMBackend('simulator_mps')>,\n",
       " <IBMBackend('simulator_extended_stabilizer')>,\n",
       " <IBMBackend('simulator_stabilizer')>,\n",
       " <IBMBackend('ibmq_manila')>,\n",
       " <IBMBackend('ibm_nairobi')>,\n",
       " <IBMBackend('ibm_oslo')>]"
      ]
     },
     "execution_count": 27,
     "metadata": {},
     "output_type": "execute_result"
    }
   ],
   "source": [
    "service.backends()"
   ]
  },
  {
   "cell_type": "code",
   "execution_count": 28,
   "metadata": {},
   "outputs": [],
   "source": [
    "runtime_sim_backend = service.get_backend('ibmq_qasm_simulator')"
   ]
  },
  {
   "cell_type": "code",
   "execution_count": 30,
   "metadata": {},
   "outputs": [
    {
     "name": "stdout",
     "output_type": "stream",
     "text": [
      "Iteration: 10  value= -0.8667534695959217\n",
      "Iteration: 20  value= -0.9815412588930799\n",
      "Iteration: 30  value= -1.0187898004798666\n",
      "Iteration: 40  value= -1.0567644517770627\n",
      "Iteration: 50  value= -1.179149588296833\n",
      "Iteration: 60  value= -1.2402867968093978\n",
      "Iteration: 70  value= -1.2643309777791925\n",
      "Iteration: 80  value= -1.4662747545561494\n",
      "Iteration: 90  value= -1.4517147139195745\n",
      "Iteration: 100  value= -1.5086903149722923\n",
      "Iteration: 110  value= -1.6368206576180122\n",
      "Iteration: 120  value= -1.6938174174132223\n",
      "Iteration: 130  value= -1.6840212072717313\n",
      "Iteration: 140  value= -1.7127275535320932\n",
      "Iteration: 150  value= -1.7424615205042366\n",
      "Iteration: 160  value= -1.7515933116794233\n",
      "Iteration: 170  value= -1.7353576494691714\n",
      "Iteration: 180  value= -1.7534513844589408\n",
      "Iteration: 190  value= -1.753602516789699\n",
      "Iteration: 200  value= -1.7568906673374434\n",
      "Iteration: 210  value= -1.763252769529356\n",
      "Iteration: 220  value= -1.7720353620818865\n",
      "Iteration: 230  value= -1.7673018421647586\n",
      "Iteration: 240  value= -1.7592654628961448\n",
      "Iteration: 250  value= -1.7673537380419786\n",
      "Iteration: 260  value= -1.7684306643705172\n",
      "Iteration: 270  value= -1.7654507988983592\n",
      "Iteration: 280  value= -1.7672016617085347\n",
      "Iteration: 290  value= -1.7675400483620458\n",
      "Iteration: 300  value= -1.7692995188005427\n",
      "Iteration: 310  value= -1.7692552048833887\n",
      "Iteration: 320  value= -1.7730413724782026\n",
      "Iteration: 330  value= -1.7682364738125318\n",
      "Iteration: 340  value= -1.7685992497854603\n",
      "Iteration: 350  value= -1.7745952804290541\n",
      "Iteration: 360  value= -1.7701144829922264\n",
      "Iteration: 370  value= -1.7645857379622543\n",
      "Iteration: 380  value= -1.770372947298076\n",
      "Iteration: 390  value= -1.760886080984527\n",
      "Iteration: 400  value= -1.7686353189977289\n",
      "=== GROUND STATE ENERGY ===\n",
      " \n",
      "* Electronic ground state energy (Hartree): -1.768635318998\n",
      "  - computed part:      -1.768635318998\n",
      "~ Nuclear repulsion energy (Hartree): 0.719968994449\n",
      "> Total ground state energy (Hartree): -1.048666324549\n",
      " \n",
      "=== MEASURED OBSERVABLES ===\n",
      " \n",
      "  0:  # Particles: 2.030 S: 0.138 S^2: 0.157 M: -0.039\n",
      " \n",
      "=== DIPOLE MOMENTS ===\n",
      " \n",
      "~ Nuclear dipole moment (a.u.): [0.0  0.0  1.3889487]\n",
      " \n",
      "  0: \n",
      "  * Electronic dipole moment (a.u.): [0.0  0.0  1.54415777]\n",
      "    - computed part:      [0.0  0.0  1.54415777]\n",
      "  > Dipole moment (a.u.): [0.0  0.0  -0.15520907]  Total: 0.15520907\n",
      "                 (debye): [0.0  0.0  -0.39450208]  Total: 0.39450208\n",
      " \n"
     ]
    }
   ],
   "source": [
    "with Session(backend=runtime_sim_backend) as session:\n",
    "    estimator = Estimator(session=session)\n",
    "    runtime_vqe_solver = VQE(estimator, su2_circ, COBYLA(), callback=callback)\n",
    "    runtime_su2_gsc = GroundStateEigensolver(qubit_converter, runtime_vqe_solver)\n",
    "    result = runtime_su2_gsc.solve(es_problem)\n",
    "    \n",
    "print(result)        "
   ]
  },
  {
   "cell_type": "markdown",
   "metadata": {},
   "source": [
    "## Noisy Simulation"
   ]
  },
  {
   "cell_type": "code",
   "execution_count": 31,
   "metadata": {},
   "outputs": [],
   "source": [
    "from qiskit.providers.fake_provider import FakeBelem\n",
    "from qiskit_aer.noise import NoiseModel\n",
    "\n",
    "fake_noisy_backend = FakeBelem()\n",
    "noise_model = NoiseModel.from_backend(fake_noisy_backend)"
   ]
  },
  {
   "cell_type": "code",
   "execution_count": 34,
   "metadata": {},
   "outputs": [],
   "source": [
    "from qiskit_ibm_runtime import Options\n",
    "\n",
    "options = Options()\n",
    "options.simulator = {\n",
    "    \"noise_model\": noise_model,\n",
    "    \"basis_gates\": fake_noisy_backend.configuration().basis_gates,\n",
    "    \"coupling_map\": fake_noisy_backend.configuration().coupling_map,\n",
    "    \"seed_simulator\": 42\n",
    "}\n",
    "\n",
    "options.execution.shots = 1024\n",
    "options.optimization_level = 0\n",
    "options.resiliance_level = 0"
   ]
  },
  {
   "cell_type": "code",
   "execution_count": 36,
   "metadata": {},
   "outputs": [
    {
     "name": "stdout",
     "output_type": "stream",
     "text": [
      "Iteration: 10  value= -0.9173104422841999\n",
      "Iteration: 20  value= -0.9368500171324754\n",
      "Iteration: 30  value= -1.0222358205012503\n",
      "Iteration: 40  value= -1.1161217483900086\n",
      "Iteration: 50  value= -1.1808567932573633\n",
      "Iteration: 60  value= -1.149445053273609\n",
      "Iteration: 70  value= -1.2619005012855031\n",
      "Iteration: 80  value= -1.2163566704025335\n",
      "Iteration: 90  value= -1.3215160483501323\n",
      "Iteration: 100  value= -1.283476621268391\n",
      "Iteration: 110  value= -1.3333071960527538\n",
      "Iteration: 120  value= -1.3379184895881355\n",
      "Iteration: 130  value= -1.3684673529096667\n",
      "Iteration: 140  value= -1.3233103787113154\n",
      "Iteration: 150  value= -1.377821728406495\n",
      "Iteration: 160  value= -1.4201055120900636\n",
      "Iteration: 170  value= -1.38710981225051\n",
      "Iteration: 180  value= -1.360682348685994\n",
      "Iteration: 190  value= -1.3551395927552448\n",
      "Iteration: 200  value= -1.3547897271210925\n",
      "Iteration: 210  value= -1.3714908668566506\n",
      "Iteration: 220  value= -1.3156621589314117\n",
      "Iteration: 230  value= -1.399135866783236\n",
      "Iteration: 240  value= -1.3194973795837435\n",
      "Iteration: 250  value= -1.3849363319559806\n",
      "Iteration: 260  value= -1.347455374178649\n",
      "Iteration: 270  value= -1.3813204912334305\n",
      "Iteration: 280  value= -1.3759108943106826\n",
      "Iteration: 290  value= -1.3122046104269922\n",
      "Iteration: 300  value= -1.3578391524191793\n",
      "Iteration: 310  value= -1.3583702146979606\n",
      "=== GROUND STATE ENERGY ===\n",
      " \n",
      "* Electronic ground state energy (Hartree): -1.360653823181\n",
      "  - computed part:      -1.360653823181\n",
      "~ Nuclear repulsion energy (Hartree): 0.719968994449\n",
      "> Total ground state energy (Hartree): -0.640684828732\n",
      " \n",
      "=== MEASURED OBSERVABLES ===\n",
      " \n",
      "  0:  # Particles: 1.910 S: 0.338 S^2: 0.453 M: 0.078\n",
      " \n",
      "=== DIPOLE MOMENTS ===\n",
      " \n",
      "~ Nuclear dipole moment (a.u.): [0.0  0.0  1.3889487]\n",
      " \n",
      "  0: \n",
      "  * Electronic dipole moment (a.u.): [0.0  0.0  1.49864424]\n",
      "    - computed part:      [0.0  0.0  1.49864424]\n",
      "  > Dipole moment (a.u.): [0.0  0.0  -0.10969554]  Total: 0.10969554\n",
      "                 (debye): [0.0  0.0  -0.27881822]  Total: 0.27881822\n",
      " \n"
     ]
    }
   ],
   "source": [
    "with Session(backend=runtime_sim_backend) as session:\n",
    "    estimator = Estimator(session=session, options=options)\n",
    "    runtime_vqe_solver = VQE(estimator, su2_circ, COBYLA(), callback=callback)\n",
    "    runtime_su2_gsc = GroundStateEigensolver(qubit_converter, runtime_vqe_solver)\n",
    "    result = runtime_su2_gsc.solve(es_problem)\n",
    "    \n",
    "print(result)    "
   ]
  },
  {
   "cell_type": "markdown",
   "metadata": {},
   "source": [
    "## Use Error Suppression and Mitigation"
   ]
  },
  {
   "cell_type": "code",
   "execution_count": 38,
   "metadata": {},
   "outputs": [
    {
     "name": "stdout",
     "output_type": "stream",
     "text": [
      "Iteration: 10  value= -1.0227494935248815\n",
      "Iteration: 20  value= -1.1636407466617968\n",
      "Iteration: 30  value= -1.3730564124889173\n",
      "Iteration: 40  value= -1.3700968133323221\n",
      "Iteration: 50  value= -1.441637184640618\n",
      "Iteration: 60  value= -1.4359485611685185\n",
      "Iteration: 70  value= -1.5467493059572393\n",
      "Iteration: 80  value= -1.5041639424195923\n",
      "Iteration: 90  value= -1.5414908881908196\n",
      "Iteration: 100  value= -1.4954000598111281\n",
      "Iteration: 110  value= -1.5556716937796158\n",
      "Iteration: 120  value= -1.549464329886458\n",
      "Iteration: 130  value= -1.559799419008014\n",
      "Iteration: 140  value= -1.5903533891935193\n",
      "Iteration: 150  value= -1.5682916879136606\n",
      "Iteration: 160  value= -1.552031716466451\n",
      "Iteration: 170  value= -1.5648546709203366\n",
      "Iteration: 180  value= -1.599293978419218\n",
      "Iteration: 190  value= -1.582555147368271\n",
      "Iteration: 200  value= -1.5799997773338095\n",
      "Iteration: 210  value= -1.57611132722297\n",
      "Iteration: 220  value= -1.5537865511287958\n",
      "Iteration: 230  value= -1.5675022825610914\n",
      "Iteration: 240  value= -1.5774008188738604\n",
      "Iteration: 250  value= -1.585788292513432\n",
      "Iteration: 260  value= -1.5782689679453807\n",
      "Iteration: 270  value= -1.5687414386358827\n",
      "Iteration: 280  value= -1.5917116584424589\n",
      "Iteration: 290  value= -1.5712280199154245\n",
      "Iteration: 300  value= -1.5534449504971142\n",
      "Iteration: 310  value= -1.5721699547689594\n",
      "Iteration: 320  value= -1.52887955510106\n",
      "=== GROUND STATE ENERGY ===\n",
      " \n",
      "* Electronic ground state energy (Hartree): -1.546480890709\n",
      "  - computed part:      -1.546480890709\n",
      "~ Nuclear repulsion energy (Hartree): 0.719968994449\n",
      "> Total ground state energy (Hartree): -0.82651189626\n",
      " \n",
      "=== MEASURED OBSERVABLES ===\n",
      " \n",
      "  0:  # Particles: 2.050 S: 0.210 S^2: 0.254 M: 0.076\n",
      " \n",
      "=== DIPOLE MOMENTS ===\n",
      " \n",
      "~ Nuclear dipole moment (a.u.): [0.0  0.0  1.3889487]\n",
      " \n",
      "  0: \n",
      "  * Electronic dipole moment (a.u.): [0.0  0.0  1.47522379]\n",
      "    - computed part:      [0.0  0.0  1.47522379]\n",
      "  > Dipole moment (a.u.): [0.0  0.0  -0.08627509]  Total: 0.08627509\n",
      "                 (debye): [0.0  0.0  -0.21928939]  Total: 0.21928939\n",
      " \n"
     ]
    }
   ],
   "source": [
    "# Use Dynamic Decoupling\n",
    "options.optimization_level = 1\n",
    "\n",
    "# Use Zero-noise extrapolation\n",
    "options.resiliance_level = 2\n",
    " \n",
    "with Session(backend=runtime_sim_backend) as session:\n",
    "    estimator = Estimator(session=session, options=options)\n",
    "    runtime_vqe_solver = VQE(estimator, su2_circ, COBYLA(), callback=callback)\n",
    "    runtime_su2_gsc = GroundStateEigensolver(qubit_converter, runtime_vqe_solver)\n",
    "    result = runtime_su2_gsc.solve(es_problem)\n",
    "    \n",
    "print(result) "
   ]
  },
  {
   "cell_type": "code",
   "execution_count": 33,
   "metadata": {},
   "outputs": [
    {
     "data": {
      "text/html": [
       "<h3>Version Information</h3><table><tr><th>Qiskit Software</th><th>Version</th></tr><tr><td><code>qiskit-terra</code></td><td>0.22.2</td></tr><tr><td><code>qiskit-aer</code></td><td>0.11.1</td></tr><tr><td><code>qiskit-ibmq-provider</code></td><td>0.19.2</td></tr><tr><td><code>qiskit</code></td><td>0.39.2</td></tr><tr><td><code>qiskit-nature</code></td><td>0.5.0</td></tr><tr><td><code>qiskit-finance</code></td><td>0.3.4</td></tr><tr><td><code>qiskit-optimization</code></td><td>0.4.0</td></tr><tr><td><code>qiskit-machine-learning</code></td><td>0.5.0</td></tr><tr><th>System information</th></tr><tr><td>Python version</td><td>3.8.13</td></tr><tr><td>Python compiler</td><td>GCC 10.3.0</td></tr><tr><td>Python build</td><td>default, Mar 25 2022 06:04:10</td></tr><tr><td>OS</td><td>Linux</td></tr><tr><td>CPUs</td><td>8</td></tr><tr><td>Memory (Gb)</td><td>31.211326599121094</td></tr><tr><td colspan='2'>Wed Feb 01 19:59:39 2023 UTC</td></tr></table>"
      ],
      "text/plain": [
       "<IPython.core.display.HTML object>"
      ]
     },
     "metadata": {},
     "output_type": "display_data"
    }
   ],
   "source": [
    "%qiskit_version_table"
   ]
  },
  {
   "cell_type": "code",
   "execution_count": null,
   "metadata": {},
   "outputs": [],
   "source": []
  }
 ],
 "metadata": {
  "kernelspec": {
   "display_name": "Python 3",
   "language": "python",
   "name": "python3"
  },
  "language_info": {
   "codemirror_mode": {
    "name": "ipython",
    "version": 3
   },
   "file_extension": ".py",
   "mimetype": "text/x-python",
   "name": "python",
   "nbconvert_exporter": "python",
   "pygments_lexer": "ipython3",
   "version": "3.8.5"
  },
  "widgets": {
   "application/vnd.jupyter.widget-state+json": {
    "state": {},
    "version_major": 2,
    "version_minor": 0
   }
  }
 },
 "nbformat": 4,
 "nbformat_minor": 5
}
